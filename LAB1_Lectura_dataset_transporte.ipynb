{
  "nbformat": 4,
  "nbformat_minor": 0,
  "metadata": {
    "colab": {
      "provenance": []
    },
    "kernelspec": {
      "name": "python3",
      "display_name": "Python 3"
    },
    "language_info": {
      "name": "python"
    }
  },
  "cells": [
    {
      "cell_type": "code",
      "execution_count": 1,
      "metadata": {
        "id": "qUxgZvq33-ID"
      },
      "outputs": [],
      "source": [
        "# utilizado para manejos de directorios y rutas\n",
        "import os\n",
        "\n",
        "# Computacion vectorial y cientifica para python\n",
        "import numpy as np\n",
        "\n",
        "# Librerias para graficación (trazado de gráficos)\n",
        "from matplotlib import pyplot\n",
        "from mpl_toolkits.mplot3d import Axes3D  # Necesario para graficar superficies 3D\n",
        "\n",
        "# llama a matplotlib a embeber graficas dentro de los cuadernillos\n",
        "%matplotlib inline"
      ]
    },
    {
      "cell_type": "code",
      "source": [
        "import pandas as pd\n",
        "from sklearn.preprocessing import LabelEncoder\n",
        "from datetime import datetime"
      ],
      "metadata": {
        "id": "3zeLCpwjiQCT"
      },
      "execution_count": 2,
      "outputs": []
    },
    {
      "cell_type": "code",
      "source": [
        "#Carga de dataset\n",
        "data = pd.read_csv('/content/DatosTransporte.csv', sep=';')"
      ],
      "metadata": {
        "id": "V0ZXOA-6iUmV"
      },
      "execution_count": 3,
      "outputs": []
    },
    {
      "cell_type": "code",
      "source": [
        "print(data)"
      ],
      "metadata": {
        "colab": {
          "base_uri": "https://localhost:8080/"
        },
        "id": "h325dVhXicrs",
        "outputId": "28ced0c2-9bdd-4778-92a6-ec35dea93491"
      },
      "execution_count": 4,
      "outputs": [
        {
          "output_type": "stream",
          "name": "stdout",
          "text": [
            "     FECHA     ORIGEN              DESTINO  DISTANCIA DESTINO  \\\n",
            "0    3-ene  B/BERMEJA            CARTAGENA             1338.0   \n",
            "1    3-ene  B/BERMEJA            CARTAGENA             1338.0   \n",
            "2    3-ene  B/BERMEJA            CARTAGENA             1338.0   \n",
            "3    3-ene  B/BERMEJA            LA PUTANA              100.0   \n",
            "4    4-ene  B/BERMEJA            CARTAGENA             1338.0   \n",
            "..     ...        ...                  ...                ...   \n",
            "381  4-may  B/BERMEJA  SAN JUAN NEPOMUCENO             1372.0   \n",
            "382  4-may  B/BERMEJA            CARTAGENA             1338.0   \n",
            "383  4-may  B/BERMEJA     ARROYO DE PIEDRA             1340.0   \n",
            "384  5-may  B/BERMEJA               TANGUA             2204.0   \n",
            "385  5-may  B/BERMEJA               TANGUA             2204.0   \n",
            "\n",
            "     CONSUMO ACPM DESTINO e ODOM INICIAL ODOM FINAL DISTANCIA RECORRIDA  \\\n",
            "0                       160       120829     121749                 920   \n",
            "1                       160      1051479    1052855                1376   \n",
            "2                       160       313692     314808                1116   \n",
            "3                        23       872293     872394                 101   \n",
            "4                       160       945662     947076                1414   \n",
            "..                      ...          ...        ...                 ...   \n",
            "381                     145        16733      16882                 149   \n",
            "382                     160       817315     818650                1335   \n",
            "383                     170       581577     583025                1448   \n",
            "384                     356       942094     944346                2252   \n",
            "385                     356       969186     971503                2317   \n",
            "\n",
            "    AUDITORIA DISTANCIA CANTIDAD CARGADA  ... PEAJES RUTA VALOR PEAJES  \\\n",
            "0                  -              33.656  ...        18.0      540.700   \n",
            "1                  -              33.213  ...        18.0      540.700   \n",
            "2                  -              33.705  ...        18.0      540.700   \n",
            "3                  -              33.290  ...         0.0         -      \n",
            "4          Revisar Km.            33.500  ...        18.0      540.700   \n",
            "..                  ...              ...  ...         ...          ...   \n",
            "381                -              33.350  ...         0.0            0   \n",
            "382                -              32.540  ...         0.0            0   \n",
            "383        Revisar Km.            33.820  ...         0.0            0   \n",
            "384        Revisar Km.            33.530  ...         0.0            0   \n",
            "385        Revisar Km.            33.490  ...         0.0            0   \n",
            "\n",
            "    CONSUMO ACPM COSTO ACPM  ALOJAM. MANUTENC.  IMPREVISTOS MANTENIMIENTO  \\\n",
            "0           -          -      22.950    40.800         -             -      \n",
            "1            160  1.273.600   22.950    40.800         -             -      \n",
            "2            160       -      22.950    40.800         -           55.000   \n",
            "3           -          -        -       13.600         -             -      \n",
            "4           -          -      22.950    40.800         -          480.000   \n",
            "..           ...        ...      ...       ...          ...           ...   \n",
            "381           71    573.969   22.950    20.400         -             -      \n",
            "382          160  1.255.400  120.000    78.800         -             -      \n",
            "383          146  1.131.499   40.000    90.000          NaN           NaN   \n",
            "384          348  2.804.017  150.000   102.000          NaN        76.500   \n",
            "385          195  1.643.850  251.000   290.000          NaN       210.000   \n",
            "\n",
            "     DIVERSOS FLETE   \n",
            "0      10.000  $ 135  \n",
            "1      22.000  $ 135  \n",
            "2      10.000  $ 135  \n",
            "3        -      $ 20  \n",
            "4      10.000  $ 135  \n",
            "..        ...    ...  \n",
            "381    10.000  $ 122  \n",
            "382    40.000  $ 135  \n",
            "383    18.000  $ 135  \n",
            "384    55.000  $ 275  \n",
            "385    80.000  $ 275  \n",
            "\n",
            "[386 rows x 28 columns]\n"
          ]
        }
      ]
    },
    {
      "cell_type": "code",
      "source": [
        "data.info()"
      ],
      "metadata": {
        "colab": {
          "base_uri": "https://localhost:8080/"
        },
        "id": "ZoYIJwRyifh-",
        "outputId": "fda774d7-c862-43a0-856c-6a6e2485261a"
      },
      "execution_count": 5,
      "outputs": [
        {
          "output_type": "stream",
          "name": "stdout",
          "text": [
            "<class 'pandas.core.frame.DataFrame'>\n",
            "RangeIndex: 386 entries, 0 to 385\n",
            "Data columns (total 28 columns):\n",
            " #   Column                  Non-Null Count  Dtype  \n",
            "---  ------                  --------------  -----  \n",
            " 0   FECHA                   386 non-null    object \n",
            " 1   ORIGEN                  386 non-null    object \n",
            " 2   DESTINO                 386 non-null    object \n",
            " 3   DISTANCIA DESTINO       373 non-null    float64\n",
            " 4   CONSUMO ACPM DESTINO e  386 non-null    int64  \n",
            " 5   ODOM INICIAL            379 non-null    object \n",
            " 6   ODOM FINAL              381 non-null    object \n",
            " 7   DISTANCIA RECORRIDA     386 non-null    object \n",
            " 8   AUDITORIA DISTANCIA     386 non-null    object \n",
            " 9   CANTIDAD CARGADA        381 non-null    object \n",
            " 10  CANTIDAD DESCARGADA     373 non-null    object \n",
            " 11  DIFERENCIA              378 non-null    object \n",
            " 12  TIEMPO DE CARGUE        386 non-null    object \n",
            " 13  TIEMPO MUERTO           386 non-null    object \n",
            " 14  TIEMPO EN EL VIAJE      386 non-null    object \n",
            " 15  HORAS MOTOR             369 non-null    object \n",
            " 16  DIAS DE VIAJE           385 non-null    float64\n",
            " 17  COSTO MANO DE OBRA      386 non-null    object \n",
            " 18  PEAJES RUTA             382 non-null    float64\n",
            " 19  VALOR PEAJES            386 non-null    object \n",
            " 20  CONSUMO ACPM            379 non-null    object \n",
            " 21  COSTO ACPM              386 non-null    object \n",
            " 22  ALOJAM.                 386 non-null    object \n",
            " 23  MANUTENC.               386 non-null    object \n",
            " 24  IMPREVISTOS             383 non-null    object \n",
            " 25  MANTENIMIENTO           385 non-null    object \n",
            " 26  DIVERSOS                386 non-null    object \n",
            " 27  FLETE                   386 non-null    object \n",
            "dtypes: float64(3), int64(1), object(24)\n",
            "memory usage: 84.6+ KB\n"
          ]
        }
      ]
    },
    {
      "cell_type": "code",
      "source": [
        "#variables categoricas\n",
        "columnas_categoricas = data.select_dtypes(include=['object']).columns\n",
        "#variables fechas\n",
        "columnas_fechas = data.select_dtypes(include=['datetime64']).columns"
      ],
      "metadata": {
        "id": "sFmWfM7Mjn9Z"
      },
      "execution_count": 6,
      "outputs": []
    },
    {
      "cell_type": "code",
      "source": [
        "#Procesamiento de frases o palabras\n",
        "for columna in columnas_categoricas:\n",
        "  le = LabelEncoder()\n",
        "  data[columna] = le.fit_transform(data[columna])"
      ],
      "metadata": {
        "id": "GcxRaOoqkOyD"
      },
      "execution_count": 7,
      "outputs": []
    },
    {
      "cell_type": "code",
      "source": [
        "#Fechas a numeros\n",
        "for columna in columnas_fechas:\n",
        "  data[columna] = pd.to_numeric(data[columna].map(datetime.timestamp))"
      ],
      "metadata": {
        "id": "hVuep7WXkQvA"
      },
      "execution_count": 8,
      "outputs": []
    },
    {
      "cell_type": "code",
      "source": [
        "#resultado\n",
        "print(data)"
      ],
      "metadata": {
        "colab": {
          "base_uri": "https://localhost:8080/"
        },
        "id": "vHzN_Uj0kS96",
        "outputId": "b8008e4e-6744-47be-dc3e-6baf991a044f"
      },
      "execution_count": 9,
      "outputs": [
        {
          "output_type": "stream",
          "name": "stdout",
          "text": [
            "     FECHA  ORIGEN  DESTINO  DISTANCIA DESTINO  CONSUMO ACPM DESTINO e  \\\n",
            "0       74       0        7             1338.0                     160   \n",
            "1       74       0        7             1338.0                     160   \n",
            "2       74       0        7             1338.0                     160   \n",
            "3       74       0       12              100.0                      23   \n",
            "4       84       0        7             1338.0                     160   \n",
            "..     ...     ...      ...                ...                     ...   \n",
            "381     87       0       20             1372.0                     145   \n",
            "382     87       0        7             1338.0                     160   \n",
            "383     87       0        1             1340.0                     170   \n",
            "384     92       0       21             2204.0                     356   \n",
            "385     92       0       21             2204.0                     356   \n",
            "\n",
            "     ODOM INICIAL  ODOM FINAL  DISTANCIA RECORRIDA  AUDITORIA DISTANCIA  \\\n",
            "0              28          26                  273                    0   \n",
            "1               3           2                   97                    0   \n",
            "2             130         136                   25                    0   \n",
            "3             261         263                    7                    0   \n",
            "4             337         342                  111                    1   \n",
            "..            ...         ...                  ...                  ...   \n",
            "381            68          69                  122                    0   \n",
            "382           253         256                   82                    0   \n",
            "383           217         226                  118                    1   \n",
            "384           333         337                  174                    1   \n",
            "385           369         374                  188                    1   \n",
            "\n",
            "     CANTIDAD CARGADA  ...  PEAJES RUTA  VALOR PEAJES  CONSUMO ACPM  \\\n",
            "0                 173  ...         18.0            66             0   \n",
            "1                 125  ...         18.0            66            50   \n",
            "2                 180  ...         18.0            66            50   \n",
            "3                 132  ...          0.0             0             0   \n",
            "4                 155  ...         18.0            66             0   \n",
            "..                ...  ...          ...           ...           ...   \n",
            "381               136  ...          0.0             1           162   \n",
            "382                61  ...          0.0             1            50   \n",
            "383               189  ...          0.0             1            36   \n",
            "384               160  ...          0.0             1           120   \n",
            "385               153  ...          0.0             1            66   \n",
            "\n",
            "     COSTO ACPM  ALOJAM.  MANUTENC.  IMPREVISTOS  MANTENIMIENTO  DIVERSOS  \\\n",
            "0             0       23         43            0              0         1   \n",
            "1            81       23         43            0              0        28   \n",
            "2             0       23         43            0            105         1   \n",
            "3             0        0         11            0              0         0   \n",
            "4             0       23         43            0             98         1   \n",
            "..          ...      ...        ...          ...            ...       ...   \n",
            "381         261       23         30            0              0         1   \n",
            "382          75        6         61            0              0        52   \n",
            "383          39       32         69           15            139        23   \n",
            "384         197       14          1           15            126        67   \n",
            "385         134       27         37           15             56        86   \n",
            "\n",
            "     FLETE   \n",
            "0         8  \n",
            "1         8  \n",
            "2         8  \n",
            "3        15  \n",
            "4         8  \n",
            "..      ...  \n",
            "381       3  \n",
            "382       8  \n",
            "383       8  \n",
            "384      16  \n",
            "385      16  \n",
            "\n",
            "[386 rows x 28 columns]\n"
          ]
        }
      ]
    },
    {
      "cell_type": "code",
      "source": [
        "data.info()"
      ],
      "metadata": {
        "colab": {
          "base_uri": "https://localhost:8080/"
        },
        "id": "tJ9GFsACksGy",
        "outputId": "1dda1ad3-7171-467f-97ed-e4bbfa435bfa"
      },
      "execution_count": 10,
      "outputs": [
        {
          "output_type": "stream",
          "name": "stdout",
          "text": [
            "<class 'pandas.core.frame.DataFrame'>\n",
            "RangeIndex: 386 entries, 0 to 385\n",
            "Data columns (total 28 columns):\n",
            " #   Column                  Non-Null Count  Dtype  \n",
            "---  ------                  --------------  -----  \n",
            " 0   FECHA                   386 non-null    int64  \n",
            " 1   ORIGEN                  386 non-null    int64  \n",
            " 2   DESTINO                 386 non-null    int64  \n",
            " 3   DISTANCIA DESTINO       373 non-null    float64\n",
            " 4   CONSUMO ACPM DESTINO e  386 non-null    int64  \n",
            " 5   ODOM INICIAL            386 non-null    int64  \n",
            " 6   ODOM FINAL              386 non-null    int64  \n",
            " 7   DISTANCIA RECORRIDA     386 non-null    int64  \n",
            " 8   AUDITORIA DISTANCIA     386 non-null    int64  \n",
            " 9   CANTIDAD CARGADA        386 non-null    int64  \n",
            " 10  CANTIDAD DESCARGADA     386 non-null    int64  \n",
            " 11  DIFERENCIA              386 non-null    int64  \n",
            " 12  TIEMPO DE CARGUE        386 non-null    int64  \n",
            " 13  TIEMPO MUERTO           386 non-null    int64  \n",
            " 14  TIEMPO EN EL VIAJE      386 non-null    int64  \n",
            " 15  HORAS MOTOR             386 non-null    int64  \n",
            " 16  DIAS DE VIAJE           385 non-null    float64\n",
            " 17  COSTO MANO DE OBRA      386 non-null    int64  \n",
            " 18  PEAJES RUTA             382 non-null    float64\n",
            " 19  VALOR PEAJES            386 non-null    int64  \n",
            " 20  CONSUMO ACPM            386 non-null    int64  \n",
            " 21  COSTO ACPM              386 non-null    int64  \n",
            " 22  ALOJAM.                 386 non-null    int64  \n",
            " 23  MANUTENC.               386 non-null    int64  \n",
            " 24  IMPREVISTOS             386 non-null    int64  \n",
            " 25  MANTENIMIENTO           386 non-null    int64  \n",
            " 26  DIVERSOS                386 non-null    int64  \n",
            " 27  FLETE                   386 non-null    int64  \n",
            "dtypes: float64(3), int64(25)\n",
            "memory usage: 84.6 KB\n"
          ]
        }
      ]
    },
    {
      "cell_type": "code",
      "source": [
        "#llenar datos vacios\n",
        "columnas_especificas = ['DISTANCIA DESTINO','DIAS DE VIAJE','PEAJES RUTA']\n",
        "media_columnas = data[columnas_especificas].mean()\n",
        "data[columnas_especificas] = data[columnas_especificas].fillna(media_columnas)"
      ],
      "metadata": {
        "id": "071aGP2lAbVa"
      },
      "execution_count": 22,
      "outputs": []
    },
    {
      "cell_type": "code",
      "source": [
        "data.info()"
      ],
      "metadata": {
        "colab": {
          "base_uri": "https://localhost:8080/"
        },
        "id": "psdEzlgNA8zB",
        "outputId": "fb130c16-40bd-4130-9245-dcb1ecc54117"
      },
      "execution_count": 23,
      "outputs": [
        {
          "output_type": "stream",
          "name": "stdout",
          "text": [
            "<class 'pandas.core.frame.DataFrame'>\n",
            "RangeIndex: 386 entries, 0 to 385\n",
            "Data columns (total 28 columns):\n",
            " #   Column                  Non-Null Count  Dtype  \n",
            "---  ------                  --------------  -----  \n",
            " 0   FECHA                   386 non-null    int64  \n",
            " 1   ORIGEN                  386 non-null    int64  \n",
            " 2   DESTINO                 386 non-null    int64  \n",
            " 3   DISTANCIA DESTINO       386 non-null    float64\n",
            " 4   CONSUMO ACPM DESTINO e  386 non-null    int64  \n",
            " 5   ODOM INICIAL            386 non-null    int64  \n",
            " 6   ODOM FINAL              386 non-null    int64  \n",
            " 7   DISTANCIA RECORRIDA     386 non-null    int64  \n",
            " 8   AUDITORIA DISTANCIA     386 non-null    int64  \n",
            " 9   CANTIDAD CARGADA        386 non-null    int64  \n",
            " 10  CANTIDAD DESCARGADA     386 non-null    int64  \n",
            " 11  DIFERENCIA              386 non-null    int64  \n",
            " 12  TIEMPO DE CARGUE        386 non-null    int64  \n",
            " 13  TIEMPO MUERTO           386 non-null    int64  \n",
            " 14  TIEMPO EN EL VIAJE      386 non-null    int64  \n",
            " 15  HORAS MOTOR             386 non-null    int64  \n",
            " 16  DIAS DE VIAJE           386 non-null    float64\n",
            " 17  COSTO MANO DE OBRA      386 non-null    int64  \n",
            " 18  PEAJES RUTA             386 non-null    float64\n",
            " 19  VALOR PEAJES            386 non-null    int64  \n",
            " 20  CONSUMO ACPM            386 non-null    int64  \n",
            " 21  COSTO ACPM              386 non-null    int64  \n",
            " 22  ALOJAM.                 386 non-null    int64  \n",
            " 23  MANUTENC.               386 non-null    int64  \n",
            " 24  IMPREVISTOS             386 non-null    int64  \n",
            " 25  MANTENIMIENTO           386 non-null    int64  \n",
            " 26  DIVERSOS                386 non-null    int64  \n",
            " 27  FLETE                   386 non-null    int64  \n",
            "dtypes: float64(3), int64(25)\n",
            "memory usage: 84.6 KB\n"
          ]
        }
      ]
    },
    {
      "cell_type": "code",
      "source": [
        "# Generar un nuevo dataset con la columna movida\n",
        "nuevo_dataset = data.copy()\n",
        "\n",
        "# Guardar el nuevo DataFrame en un archivo CSV\n",
        "nuevo_dataset.to_csv('datos_transporte2.csv', index=False)\n",
        "\n",
        "print(\"Archivo 'datos_transporte2.csv' creado exitosamente.\")"
      ],
      "metadata": {
        "colab": {
          "base_uri": "https://localhost:8080/"
        },
        "id": "PqVV4PSerTMn",
        "outputId": "9ed7b360-fb0c-4ffd-c340-509324b13379"
      },
      "execution_count": 11,
      "outputs": [
        {
          "output_type": "stream",
          "name": "stdout",
          "text": [
            "Archivo 'datos_transporte2.csv' creado exitosamente.\n"
          ]
        }
      ]
    },
    {
      "cell_type": "code",
      "source": [
        "# Lectura de Datos\n",
        "X = data.iloc[:, :27]\n",
        "y = data.iloc[:, 27]\n",
        "m = y.size"
      ],
      "metadata": {
        "id": "ItBCVmQjR-zA"
      },
      "execution_count": 12,
      "outputs": []
    },
    {
      "cell_type": "code",
      "source": [
        "print(X)\n",
        "print('*'*25)\n",
        "print(y)"
      ],
      "metadata": {
        "colab": {
          "base_uri": "https://localhost:8080/"
        },
        "id": "oKtMPO5uVs1c",
        "outputId": "285428a2-87f6-41b3-ea3e-f3e4ef7b8ba7"
      },
      "execution_count": 13,
      "outputs": [
        {
          "output_type": "stream",
          "name": "stdout",
          "text": [
            "     FECHA  ORIGEN  DESTINO  DISTANCIA DESTINO  CONSUMO ACPM DESTINO e  \\\n",
            "0       74       0        7             1338.0                     160   \n",
            "1       74       0        7             1338.0                     160   \n",
            "2       74       0        7             1338.0                     160   \n",
            "3       74       0       12              100.0                      23   \n",
            "4       84       0        7             1338.0                     160   \n",
            "..     ...     ...      ...                ...                     ...   \n",
            "381     87       0       20             1372.0                     145   \n",
            "382     87       0        7             1338.0                     160   \n",
            "383     87       0        1             1340.0                     170   \n",
            "384     92       0       21             2204.0                     356   \n",
            "385     92       0       21             2204.0                     356   \n",
            "\n",
            "     ODOM INICIAL  ODOM FINAL  DISTANCIA RECORRIDA  AUDITORIA DISTANCIA  \\\n",
            "0              28          26                  273                    0   \n",
            "1               3           2                   97                    0   \n",
            "2             130         136                   25                    0   \n",
            "3             261         263                    7                    0   \n",
            "4             337         342                  111                    1   \n",
            "..            ...         ...                  ...                  ...   \n",
            "381            68          69                  122                    0   \n",
            "382           253         256                   82                    0   \n",
            "383           217         226                  118                    1   \n",
            "384           333         337                  174                    1   \n",
            "385           369         374                  188                    1   \n",
            "\n",
            "     CANTIDAD CARGADA  ...  COSTO MANO DE OBRA  PEAJES RUTA  VALOR PEAJES  \\\n",
            "0                 173  ...                   5         18.0            66   \n",
            "1                 125  ...                   5         18.0            66   \n",
            "2                 180  ...                   5         18.0            66   \n",
            "3                 132  ...                   5          0.0             0   \n",
            "4                 155  ...                   6         18.0            66   \n",
            "..                ...  ...                 ...          ...           ...   \n",
            "381               136  ...                   5          0.0             1   \n",
            "382                61  ...                   5          0.0             1   \n",
            "383               189  ...                   7          0.0             1   \n",
            "384               160  ...                   9          0.0             1   \n",
            "385               153  ...                  11          0.0             1   \n",
            "\n",
            "     CONSUMO ACPM  COSTO ACPM  ALOJAM.  MANUTENC.  IMPREVISTOS  MANTENIMIENTO  \\\n",
            "0               0           0       23         43            0              0   \n",
            "1              50          81       23         43            0              0   \n",
            "2              50           0       23         43            0            105   \n",
            "3               0           0        0         11            0              0   \n",
            "4               0           0       23         43            0             98   \n",
            "..            ...         ...      ...        ...          ...            ...   \n",
            "381           162         261       23         30            0              0   \n",
            "382            50          75        6         61            0              0   \n",
            "383            36          39       32         69           15            139   \n",
            "384           120         197       14          1           15            126   \n",
            "385            66         134       27         37           15             56   \n",
            "\n",
            "     DIVERSOS  \n",
            "0           1  \n",
            "1          28  \n",
            "2           1  \n",
            "3           0  \n",
            "4           1  \n",
            "..        ...  \n",
            "381         1  \n",
            "382        52  \n",
            "383        23  \n",
            "384        67  \n",
            "385        86  \n",
            "\n",
            "[386 rows x 27 columns]\n",
            "*************************\n",
            "0       8\n",
            "1       8\n",
            "2       8\n",
            "3      15\n",
            "4       8\n",
            "       ..\n",
            "381     3\n",
            "382     8\n",
            "383     8\n",
            "384    16\n",
            "385    16\n",
            "Name: FLETE , Length: 386, dtype: int64\n"
          ]
        }
      ]
    },
    {
      "cell_type": "code",
      "source": [
        "def  featureNormalize(X):\n",
        "    X_norm = X.copy()\n",
        "    mu = np.zeros(X.shape[1])\n",
        "    sigma = np.zeros(X.shape[1])\n",
        "\n",
        "    mu = np.mean(X, axis = 0)\n",
        "    sigma = np.std(X, axis = 0)\n",
        "    X_norm = (X - mu) / sigma\n",
        "\n",
        "    return X_norm, mu, sigma"
      ],
      "metadata": {
        "id": "YTU_mZGYZcgn"
      },
      "execution_count": 14,
      "outputs": []
    },
    {
      "cell_type": "code",
      "source": [
        "# llama featureNormalize con los datos cargados\n",
        "X_norm, mu, sigma = featureNormalize(X)\n",
        "\n",
        "print(X)\n",
        "print('Media calculada:', mu)\n",
        "print('Desviación estandar calculada:', sigma)\n",
        "print(X_norm)"
      ],
      "metadata": {
        "colab": {
          "base_uri": "https://localhost:8080/"
        },
        "id": "euQ9QJM0ZhkN",
        "outputId": "b60282a8-d190-4fdd-9d53-e0b2f6f464ac"
      },
      "execution_count": 15,
      "outputs": [
        {
          "output_type": "stream",
          "name": "stdout",
          "text": [
            "     FECHA  ORIGEN  DESTINO  DISTANCIA DESTINO  CONSUMO ACPM DESTINO e  \\\n",
            "0       74       0        7             1338.0                     160   \n",
            "1       74       0        7             1338.0                     160   \n",
            "2       74       0        7             1338.0                     160   \n",
            "3       74       0       12              100.0                      23   \n",
            "4       84       0        7             1338.0                     160   \n",
            "..     ...     ...      ...                ...                     ...   \n",
            "381     87       0       20             1372.0                     145   \n",
            "382     87       0        7             1338.0                     160   \n",
            "383     87       0        1             1340.0                     170   \n",
            "384     92       0       21             2204.0                     356   \n",
            "385     92       0       21             2204.0                     356   \n",
            "\n",
            "     ODOM INICIAL  ODOM FINAL  DISTANCIA RECORRIDA  AUDITORIA DISTANCIA  \\\n",
            "0              28          26                  273                    0   \n",
            "1               3           2                   97                    0   \n",
            "2             130         136                   25                    0   \n",
            "3             261         263                    7                    0   \n",
            "4             337         342                  111                    1   \n",
            "..            ...         ...                  ...                  ...   \n",
            "381            68          69                  122                    0   \n",
            "382           253         256                   82                    0   \n",
            "383           217         226                  118                    1   \n",
            "384           333         337                  174                    1   \n",
            "385           369         374                  188                    1   \n",
            "\n",
            "     CANTIDAD CARGADA  ...  COSTO MANO DE OBRA  PEAJES RUTA  VALOR PEAJES  \\\n",
            "0                 173  ...                   5         18.0            66   \n",
            "1                 125  ...                   5         18.0            66   \n",
            "2                 180  ...                   5         18.0            66   \n",
            "3                 132  ...                   5          0.0             0   \n",
            "4                 155  ...                   6         18.0            66   \n",
            "..                ...  ...                 ...          ...           ...   \n",
            "381               136  ...                   5          0.0             1   \n",
            "382                61  ...                   5          0.0             1   \n",
            "383               189  ...                   7          0.0             1   \n",
            "384               160  ...                   9          0.0             1   \n",
            "385               153  ...                  11          0.0             1   \n",
            "\n",
            "     CONSUMO ACPM  COSTO ACPM  ALOJAM.  MANUTENC.  IMPREVISTOS  MANTENIMIENTO  \\\n",
            "0               0           0       23         43            0              0   \n",
            "1              50          81       23         43            0              0   \n",
            "2              50           0       23         43            0            105   \n",
            "3               0           0        0         11            0              0   \n",
            "4               0           0       23         43            0             98   \n",
            "..            ...         ...      ...        ...          ...            ...   \n",
            "381           162         261       23         30            0              0   \n",
            "382            50          75        6         61            0              0   \n",
            "383            36          39       32         69           15            139   \n",
            "384           120         197       14          1           15            126   \n",
            "385            66         134       27         37           15             56   \n",
            "\n",
            "     DIVERSOS  \n",
            "0           1  \n",
            "1          28  \n",
            "2           1  \n",
            "3           0  \n",
            "4           1  \n",
            "..        ...  \n",
            "381         1  \n",
            "382        52  \n",
            "383        23  \n",
            "384        67  \n",
            "385        86  \n",
            "\n",
            "[386 rows x 27 columns]\n",
            "Media calculada: FECHA                       56.626943\n",
            "ORIGEN                       0.064767\n",
            "DESTINO                     12.253886\n",
            "DISTANCIA DESTINO         1053.045576\n",
            "CONSUMO ACPM DESTINO e     139.010363\n",
            "ODOM INICIAL               190.419689\n",
            "ODOM FINAL                 191.525907\n",
            "DISTANCIA RECORRIDA        150.803109\n",
            "AUDITORIA DISTANCIA          0.378238\n",
            "CANTIDAD CARGADA           111.616580\n",
            "CANTIDAD DESCARGADA        102.191710\n",
            "DIFERENCIA                  22.308290\n",
            "TIEMPO DE CARGUE            28.650259\n",
            "TIEMPO MUERTO               21.849741\n",
            "TIEMPO EN EL VIAJE          46.054404\n",
            "HORAS MOTOR                190.417098\n",
            "DIAS DE VIAJE                3.051948\n",
            "COSTO MANO DE OBRA           6.505181\n",
            "PEAJES RUTA                  7.109948\n",
            "VALOR PEAJES                28.170984\n",
            "CONSUMO ACPM                60.800518\n",
            "COSTO ACPM                 125.352332\n",
            "ALOJAM.                     27.772021\n",
            "MANUTENC.                   38.225389\n",
            "IMPREVISTOS                  0.430052\n",
            "MANTENIMIENTO               41.761658\n",
            "DIVERSOS                    32.419689\n",
            "dtype: float64\n",
            "Desviación estandar calculada: FECHA                      30.426258\n",
            "ORIGEN                      0.385558\n",
            "DESTINO                     6.881514\n",
            "DISTANCIA DESTINO         605.961209\n",
            "CONSUMO ACPM DESTINO e     89.326698\n",
            "ODOM INICIAL              109.800030\n",
            "ODOM FINAL                110.529393\n",
            "DISTANCIA RECORRIDA        92.046128\n",
            "AUDITORIA DISTANCIA         0.554719\n",
            "CANTIDAD CARGADA           62.604095\n",
            "CANTIDAD DESCARGADA        56.356421\n",
            "DIFERENCIA                 33.371062\n",
            "TIEMPO DE CARGUE           33.610994\n",
            "TIEMPO MUERTO              19.484768\n",
            "TIEMPO EN EL VIAJE         45.229119\n",
            "HORAS MOTOR               109.377843\n",
            "DIAS DE VIAJE               2.382273\n",
            "COSTO MANO DE OBRA          2.103839\n",
            "PEAJES RUTA                 7.981553\n",
            "VALOR PEAJES               31.538804\n",
            "CONSUMO ACPM               50.435144\n",
            "COSTO ACPM                 96.257374\n",
            "ALOJAM.                    17.422808\n",
            "MANUTENC.                  18.834388\n",
            "IMPREVISTOS                 2.138114\n",
            "MANTENIMIENTO              44.834008\n",
            "DIVERSOS                   28.143231\n",
            "dtype: float64\n",
            "        FECHA    ORIGEN   DESTINO  DISTANCIA DESTINO  CONSUMO ACPM DESTINO e  \\\n",
            "0    0.570989 -0.167982 -0.763478           0.470252                0.234976   \n",
            "1    0.570989 -0.167982 -0.763478           0.470252                0.234976   \n",
            "2    0.570989 -0.167982 -0.763478           0.470252                0.234976   \n",
            "3    0.570989 -0.167982 -0.036894          -1.572783               -1.298720   \n",
            "4    0.899652 -0.167982 -0.763478           0.470252                0.234976   \n",
            "..        ...       ...       ...                ...                     ...   \n",
            "381  0.998251 -0.167982  1.125641           0.526361                0.067053   \n",
            "382  0.998251 -0.167982 -0.763478           0.470252                0.234976   \n",
            "383  0.998251 -0.167982 -1.635379           0.473552                0.346925   \n",
            "384  1.162583 -0.167982  1.270958           1.899386                2.429169   \n",
            "385  1.162583 -0.167982  1.270958           1.899386                2.429169   \n",
            "\n",
            "     ODOM INICIAL  ODOM FINAL  DISTANCIA RECORRIDA  AUDITORIA DISTANCIA  \\\n",
            "0       -1.479232   -1.497574             1.327561            -0.681856   \n",
            "1       -1.706918   -1.714710            -0.584523            -0.681856   \n",
            "2       -0.550270   -0.502363            -1.366740            -0.681856   \n",
            "3        0.642808    0.646652            -1.562294            -0.681856   \n",
            "4        1.334975    1.361394            -0.432426             1.120859   \n",
            "..            ...         ...                  ...                  ...   \n",
            "381     -1.114933   -1.108537            -0.312920            -0.681856   \n",
            "382      0.569948    0.583321            -0.747485            -0.681856   \n",
            "383      0.242079    0.311900            -0.356377             1.120859   \n",
            "384      1.298545    1.316158             0.252014             1.120859   \n",
            "385      1.626414    1.650910             0.404111             1.120859   \n",
            "\n",
            "     CANTIDAD CARGADA  ...  COSTO MANO DE OBRA  PEAJES RUTA  VALOR PEAJES  \\\n",
            "0            0.980502  ...           -0.715445     1.364403      1.199444   \n",
            "1            0.213779  ...           -0.715445     1.364403      1.199444   \n",
            "2            1.092315  ...           -0.715445     1.364403      1.199444   \n",
            "3            0.325592  ...           -0.715445    -0.890798     -0.893217   \n",
            "4            0.692981  ...           -0.240124     1.364403      1.199444   \n",
            "..                ...  ...                 ...          ...           ...   \n",
            "381          0.389486  ...           -0.715445    -0.890798     -0.861510   \n",
            "382         -0.808519  ...           -0.715445    -0.890798     -0.861510   \n",
            "383          1.236076  ...            0.235198    -0.890798     -0.861510   \n",
            "384          0.772848  ...            1.185841    -0.890798     -0.861510   \n",
            "385          0.661034  ...            2.136484    -0.890798     -0.861510   \n",
            "\n",
            "     CONSUMO ACPM  COSTO ACPM   ALOJAM.  MANUTENC.  IMPREVISTOS  \\\n",
            "0       -1.205519   -1.302262 -0.273895   0.253505    -0.201136   \n",
            "1       -0.214147   -0.460768 -0.273895   0.253505    -0.201136   \n",
            "2       -0.214147   -1.302262 -0.273895   0.253505    -0.201136   \n",
            "3       -1.205519   -1.302262 -1.594004  -1.445515    -0.201136   \n",
            "4       -1.205519   -1.302262 -0.273895   0.253505    -0.201136   \n",
            "..            ...         ...       ...        ...          ...   \n",
            "381      2.006527    1.409218 -0.273895  -0.436722    -0.201136   \n",
            "382     -0.214147   -0.523101 -1.249628   1.209204    -0.201136   \n",
            "383     -0.491731   -0.897098  0.242669   1.633959     6.814392   \n",
            "384      1.173774    0.744334 -0.790459  -1.976459     6.814392   \n",
            "385      0.103092    0.089839 -0.044311  -0.065061     6.814392   \n",
            "\n",
            "     MANTENIMIENTO  DIVERSOS  \n",
            "0        -0.931473 -1.116421  \n",
            "1        -0.931473 -0.157043  \n",
            "2         1.410499 -1.116421  \n",
            "3        -0.931473 -1.151953  \n",
            "4         1.254368 -1.116421  \n",
            "..             ...       ...  \n",
            "381      -0.931473 -1.116421  \n",
            "382      -0.931473  0.695738  \n",
            "383       2.168852 -0.334705  \n",
            "384       1.878894  1.228726  \n",
            "385       0.317579  1.903844  \n",
            "\n",
            "[386 rows x 27 columns]\n"
          ]
        }
      ]
    },
    {
      "cell_type": "code",
      "source": [
        "# Añade el termino de interseccion a X\n",
        "# (Columna de unos para X0)\n",
        "X = np.concatenate([np.ones((m, 1)), X_norm], axis=1)"
      ],
      "metadata": {
        "id": "7NN1oaDhaSNp"
      },
      "execution_count": 16,
      "outputs": []
    },
    {
      "cell_type": "code",
      "source": [
        "print(X)"
      ],
      "metadata": {
        "colab": {
          "base_uri": "https://localhost:8080/"
        },
        "id": "OQ1-C-vCbne2",
        "outputId": "ff2b92c8-fc6c-4831-e7e7-fb12d2ed405b"
      },
      "execution_count": 17,
      "outputs": [
        {
          "output_type": "stream",
          "name": "stdout",
          "text": [
            "[[ 1.          0.57098894 -0.16798208 ... -0.20113604 -0.93147278\n",
            "  -1.1164208 ]\n",
            " [ 1.          0.57098894 -0.16798208 ... -0.20113604 -0.93147278\n",
            "  -0.1570427 ]\n",
            " [ 1.          0.57098894 -0.16798208 ... -0.20113604  1.41049941\n",
            "  -1.1164208 ]\n",
            " ...\n",
            " [ 1.          0.99825146 -0.16798208 ...  6.8143921   2.16885231\n",
            "  -0.33470531]\n",
            " [ 1.          1.1625832  -0.16798208 ...  6.8143921   1.87889385\n",
            "   1.22872567]\n",
            " [ 1.          1.1625832  -0.16798208 ...  6.8143921   0.31757906\n",
            "   1.90384359]]\n"
          ]
        }
      ]
    },
    {
      "cell_type": "code",
      "source": [
        "def computeCostMulti(X, y, theta):\n",
        "    # Inicializa algunos valores utiles\n",
        "    m = y.shape[0] # numero de ejemplos de entrenamiento\n",
        "\n",
        "    J = 0\n",
        "\n",
        "    h = np.dot(X, theta)\n",
        "\n",
        "    J = (1/(2 * m)) * np.sum(np.square(np.dot(X, theta) - y))\n",
        "\n",
        "    return J"
      ],
      "metadata": {
        "id": "GWgtnt2sbz5X"
      },
      "execution_count": 30,
      "outputs": []
    },
    {
      "cell_type": "code",
      "source": [
        "def gradientDescentMulti(X, y, theta, alpha, num_iters):\n",
        "\n",
        "    # Inicializa algunos valores\n",
        "    m = y.shape[0] # numero de ejemplos de entrenamiento\n",
        "\n",
        "    # realiza una copia de theta, el cual será acutalizada por el descenso por el gradiente\n",
        "    theta = theta.copy()\n",
        "\n",
        "    J_history = []\n",
        "\n",
        "    for i in range(num_iters):\n",
        "        theta = theta - (alpha / m) * (np.dot(X, theta) - y).dot(X)\n",
        "        J_history.append(computeCostMulti(X, y, theta))\n",
        "\n",
        "    return theta, J_history"
      ],
      "metadata": {
        "id": "8v0RAOnH9A3P"
      },
      "execution_count": 31,
      "outputs": []
    },
    {
      "cell_type": "code",
      "source": [
        "# Elegir algun valor para alpha (probar varias alternativas)\n",
        "alpha = 0.01\n",
        "num_iters = 4000\n",
        "\n",
        "# inicializa theta y ejecuta el descenso por el gradiente\n",
        "theta = np.zeros(28)\n",
        "theta, J_history = gradientDescentMulti(X, y, theta, alpha, num_iters)\n",
        "\n",
        "# Grafica la convergencia del costo\n",
        "pyplot.plot(np.arange(len(J_history)), J_history, lw=2)\n",
        "pyplot.xlabel('Numero de iteraciones')\n",
        "pyplot.ylabel('Costo J')\n",
        "\n",
        "# Muestra los resultados del descenso por el gradiente\n",
        "print('theta calculado por el descenso por el gradiente: {:s}'.format(str(theta)))\n",
        "\n",
        "# Estimar el precio para un costo de un transporte con distintas caracteristicas\n",
        "X_array = [1, 2, 130, 32, 1, 17, 1.48, 29, 4, 12, 15, 1, 1,4,16,35,120,73,10,2,17,8,9,31,50,80,11,5]\n",
        "X_array[1:28] = (X_array[1:28] - mu) / sigma\n",
        "price = np.dot(X_array, theta)   # Se debe cambiar esto\n",
        "\n",
        "print('El valor predecido es (usando el descenso por el gradiente): {:.4f}'.format(price))"
      ],
      "metadata": {
        "colab": {
          "base_uri": "https://localhost:8080/",
          "height": 501
        },
        "id": "sCR0dZmB9LVd",
        "outputId": "a1e1ee26-3c40-4e34-9bfa-8c85801ed53c"
      },
      "execution_count": 32,
      "outputs": [
        {
          "output_type": "stream",
          "name": "stdout",
          "text": [
            "theta calculado por el descenso por el gradiente: [nan nan nan nan nan nan nan nan nan nan nan nan nan nan nan nan nan nan\n",
            " nan nan nan nan nan nan nan nan nan nan]\n",
            "El valor predecido es (usando el descenso por el gradiente): nan\n"
          ]
        },
        {
          "output_type": "display_data",
          "data": {
            "text/plain": [
              "<Figure size 640x480 with 1 Axes>"
            ],
            "image/png": "[encoded data removed]"
          },
          "metadata": {}
        }
      ]
    }
  ]
}