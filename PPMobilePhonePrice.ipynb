{
  "nbformat": 4,
  "nbformat_minor": 0,
  "metadata": {
    "colab": {
      "provenance": []
    },
    "kernelspec": {
      "name": "python3",
      "display_name": "Python 3"
    },
    "language_info": {
      "name": "python"
    }
  },
  "cells": [
    {
      "cell_type": "code",
      "execution_count": 21,
      "metadata": {
        "id": "hj94m4UzmsI6"
      },
      "outputs": [],
      "source": [
        "#Nombre: Raul Carmelo Villca Saigua\n",
        "#Carrera: Ing. Sistemas\n",
        "\n",
        "# utilizado para manejos de directorios y rutas\n",
        "import os\n",
        "\n",
        "# Computacion vectorial y cientifica para python\n",
        "import numpy as np\n",
        "\n",
        "# Librerias para graficación (trazado de gráficos)\n",
        "from matplotlib import pyplot\n",
        "from mpl_toolkits.mplot3d import Axes3D  # Necesario para graficar superficies 3D\n",
        "\n",
        "# llama a matplotlib a embeber graficas dentro de los cuadernillos\n",
        "%matplotlib inline"
      ]
    },
    {
      "cell_type": "code",
      "source": [
        "import pandas as pd\n",
        "from sklearn.preprocessing import LabelEncoder\n",
        "from datetime import datetime"
      ],
      "metadata": {
        "id": "VLiKpFOvo873"
      },
      "execution_count": 22,
      "outputs": []
    },
    {
      "cell_type": "code",
      "source": [
        "#Carga de dataset\n",
        "data = pd.read_csv('/content/Mobile phone price.csv')"
      ],
      "metadata": {
        "id": "stjXE1gKo_qK"
      },
      "execution_count": 23,
      "outputs": []
    },
    {
      "cell_type": "code",
      "source": [
        "print(data)"
      ],
      "metadata": {
        "colab": {
          "base_uri": "https://localhost:8080/"
        },
        "id": "7CVPNQ5UpTYu",
        "outputId": "ddcfa67f-d7cd-4210-9ddf-2f0fb1017935"
      },
      "execution_count": 24,
      "outputs": [
        {
          "output_type": "stream",
          "name": "stdout",
          "text": [
            "       Brand              Model Storage    RAM  Screen Size (inches)  \\\n",
            "0      Apple      iPhone 13 Pro   128 GB   6 GB                  6.1   \n",
            "1    Samsung   Galaxy S21 Ultra   256 GB  12 GB                  6.8   \n",
            "2    OnePlus              9 Pro   128 GB   8 GB                  6.7   \n",
            "3     Xiaomi  Redmi Note 10 Pro   128 GB   6 GB                 6.67   \n",
            "4     Google            Pixel 6   128 GB   8 GB                  6.4   \n",
            "..       ...                ...      ...    ...                  ...   \n",
            "402  Samsung   Galaxy Note20 5G      128      8                  6.7   \n",
            "403   Xiaomi      Mi 10 Lite 5G      128      6                 6.57   \n",
            "404    Apple  iPhone 12 Pro Max      128      6                  6.7   \n",
            "405     Oppo              Reno3      128      8                  6.4   \n",
            "406  Samsung    Galaxy S10 Lite      128      6                  6.7   \n",
            "\n",
            "            Camera (MP)  Battery Capacity (mAh) Price ($)  \n",
            "0          12 + 12 + 12                    3095       999  \n",
            "1    108 + 10 + 10 + 12                    5000      1199  \n",
            "2       48 + 50 + 8 + 2                    4500       899  \n",
            "3        64 + 8 + 5 + 2                    5020       279  \n",
            "4             50 + 12.2                    4614       799  \n",
            "..                  ...                     ...       ...  \n",
            "402            12+64+12                    4300      1049  \n",
            "403            48+8+2+2                    4160       349  \n",
            "404            12+12+12                    3687      1099  \n",
            "405           48+13+8+2                    4025       429  \n",
            "406             48+12+5                    4500       649  \n",
            "\n",
            "[407 rows x 8 columns]\n"
          ]
        }
      ]
    },
    {
      "cell_type": "code",
      "source": [
        "data.info()"
      ],
      "metadata": {
        "colab": {
          "base_uri": "https://localhost:8080/"
        },
        "id": "k5ooGlw9psf_",
        "outputId": "bd081267-1886-4e8b-ad32-49a2b84642bc"
      },
      "execution_count": 25,
      "outputs": [
        {
          "output_type": "stream",
          "name": "stdout",
          "text": [
            "<class 'pandas.core.frame.DataFrame'>\n",
            "RangeIndex: 407 entries, 0 to 406\n",
            "Data columns (total 8 columns):\n",
            " #   Column                  Non-Null Count  Dtype \n",
            "---  ------                  --------------  ----- \n",
            " 0   Brand                   407 non-null    object\n",
            " 1   Model                   407 non-null    object\n",
            " 2   Storage                 407 non-null    object\n",
            " 3   RAM                     407 non-null    object\n",
            " 4   Screen Size (inches)    407 non-null    object\n",
            " 5   Camera (MP)             407 non-null    object\n",
            " 6   Battery Capacity (mAh)  407 non-null    int64 \n",
            " 7   Price ($)               407 non-null    object\n",
            "dtypes: int64(1), object(7)\n",
            "memory usage: 25.6+ KB\n"
          ]
        }
      ]
    },
    {
      "cell_type": "code",
      "source": [
        "#variables categoricas\n",
        "columnas_categoricas = data.select_dtypes(include=['object']).columns"
      ],
      "metadata": {
        "id": "-R7SkEHOqMHF"
      },
      "execution_count": 26,
      "outputs": []
    },
    {
      "cell_type": "code",
      "source": [
        "#Procesamiento de frases o palabras\n",
        "for columna in columnas_categoricas:\n",
        "  le = LabelEncoder()\n",
        "  data[columna] = le.fit_transform(data[columna])"
      ],
      "metadata": {
        "id": "8UhCdxw4sqIu"
      },
      "execution_count": 27,
      "outputs": []
    },
    {
      "cell_type": "code",
      "source": [
        "print(data)"
      ],
      "metadata": {
        "colab": {
          "base_uri": "https://localhost:8080/"
        },
        "id": "u_ROqjwgtqZW",
        "outputId": "213b77ab-6fa2-418a-d57e-2c7e2cb704ff"
      },
      "execution_count": 28,
      "outputs": [
        {
          "output_type": "stream",
          "name": "stdout",
          "text": [
            "     Brand  Model  Storage   RAM   Screen Size (inches)  Camera (MP)  \\\n",
            "0        0    232         1    15                     8           15   \n",
            "1       12    100         4     1                    35            0   \n",
            "2        9     19         1    18                    31           53   \n",
            "3       15    178         1    15                    30          119   \n",
            "4        4    162         1    18                    15           87   \n",
            "..     ...    ...       ...   ...                   ...          ...   \n",
            "402     12     95         0    17                    31           19   \n",
            "403     15    111         0    14                    26           70   \n",
            "404      0    229         0    14                    31           17   \n",
            "405     10    188         0    17                    15           59   \n",
            "406     12     96         0    14                    31           57   \n",
            "\n",
            "     Battery Capacity (mAh)  Price ($)  \n",
            "0                      3095         88  \n",
            "1                      5000         45  \n",
            "2                      4500         85  \n",
            "3                      5020         63  \n",
            "4                      4614         84  \n",
            "..                      ...        ...  \n",
            "402                    4300         42  \n",
            "403                    4160         67  \n",
            "404                    3687         43  \n",
            "405                    4025         73  \n",
            "406                    4500         79  \n",
            "\n",
            "[407 rows x 8 columns]\n"
          ]
        }
      ]
    },
    {
      "cell_type": "code",
      "source": [
        "data.info()"
      ],
      "metadata": {
        "colab": {
          "base_uri": "https://localhost:8080/"
        },
        "id": "YXuOgdJlt4Gw",
        "outputId": "9732f8db-7aca-43aa-81ce-8553047e9b05"
      },
      "execution_count": 29,
      "outputs": [
        {
          "output_type": "stream",
          "name": "stdout",
          "text": [
            "<class 'pandas.core.frame.DataFrame'>\n",
            "RangeIndex: 407 entries, 0 to 406\n",
            "Data columns (total 8 columns):\n",
            " #   Column                  Non-Null Count  Dtype\n",
            "---  ------                  --------------  -----\n",
            " 0   Brand                   407 non-null    int64\n",
            " 1   Model                   407 non-null    int64\n",
            " 2   Storage                 407 non-null    int64\n",
            " 3   RAM                     407 non-null    int64\n",
            " 4   Screen Size (inches)    407 non-null    int64\n",
            " 5   Camera (MP)             407 non-null    int64\n",
            " 6   Battery Capacity (mAh)  407 non-null    int64\n",
            " 7   Price ($)               407 non-null    int64\n",
            "dtypes: int64(8)\n",
            "memory usage: 25.6 KB\n"
          ]
        }
      ]
    },
    {
      "cell_type": "code",
      "source": [
        "# Lectura de Datos\n",
        "X = data.iloc[:, :7]\n",
        "y = data.iloc[:, 7]\n",
        "m = y.size"
      ],
      "metadata": {
        "id": "wyxor5CzuDCo"
      },
      "execution_count": 30,
      "outputs": []
    },
    {
      "cell_type": "code",
      "source": [
        "print(X)\n",
        "print('SEPARACION  '*5)\n",
        "print(y)"
      ],
      "metadata": {
        "colab": {
          "base_uri": "https://localhost:8080/"
        },
        "id": "JRynQ0d1um3h",
        "outputId": "cf94f02f-5e92-4a4c-971a-dff11b6796b2"
      },
      "execution_count": 33,
      "outputs": [
        {
          "output_type": "stream",
          "name": "stdout",
          "text": [
            "     Brand  Model  Storage   RAM   Screen Size (inches)  Camera (MP)  \\\n",
            "0        0    232         1    15                     8           15   \n",
            "1       12    100         4     1                    35            0   \n",
            "2        9     19         1    18                    31           53   \n",
            "3       15    178         1    15                    30          119   \n",
            "4        4    162         1    18                    15           87   \n",
            "..     ...    ...       ...   ...                   ...          ...   \n",
            "402     12     95         0    17                    31           19   \n",
            "403     15    111         0    14                    26           70   \n",
            "404      0    229         0    14                    31           17   \n",
            "405     10    188         0    17                    15           59   \n",
            "406     12     96         0    14                    31           57   \n",
            "\n",
            "     Battery Capacity (mAh)  \n",
            "0                      3095  \n",
            "1                      5000  \n",
            "2                      4500  \n",
            "3                      5020  \n",
            "4                      4614  \n",
            "..                      ...  \n",
            "402                    4300  \n",
            "403                    4160  \n",
            "404                    3687  \n",
            "405                    4025  \n",
            "406                    4500  \n",
            "\n",
            "[407 rows x 7 columns]\n",
            "SEPARACION  SEPARACION  SEPARACION  SEPARACION  SEPARACION  \n",
            "0      88\n",
            "1      45\n",
            "2      85\n",
            "3      63\n",
            "4      84\n",
            "       ..\n",
            "402    42\n",
            "403    67\n",
            "404    43\n",
            "405    73\n",
            "406    79\n",
            "Name: Price ($), Length: 407, dtype: int64\n"
          ]
        }
      ]
    },
    {
      "cell_type": "code",
      "source": [
        "def  featureNormalize(X):\n",
        "    X_norm = X.copy()\n",
        "    mu = np.zeros(X.shape[1])\n",
        "    sigma = np.zeros(X.shape[1])\n",
        "\n",
        "    mu = np.mean(X, axis = 0)\n",
        "    sigma = np.std(X, axis = 0)\n",
        "    X_norm = (X - mu) / sigma\n",
        "\n",
        "    return X_norm, mu, sigma\n",
        "\n",
        "# Normaliza entre -0.5 y 0.5"
      ],
      "metadata": {
        "id": "49j2iF8lvKHb"
      },
      "execution_count": 34,
      "outputs": []
    },
    {
      "cell_type": "code",
      "source": [
        "# llama featureNormalize con los datos cargados\n",
        "X_norm, mu, sigma = featureNormalize(X)\n",
        "\n",
        "print(X)\n",
        "print('Media calculada:', mu)\n",
        "print('Desviación estandar calculada:', sigma)\n",
        "print(X_norm)"
      ],
      "metadata": {
        "colab": {
          "base_uri": "https://localhost:8080/"
        },
        "id": "mDS8xJLuve2K",
        "outputId": "ce8d4299-b7d6-4830-b760-23457a73c791"
      },
      "execution_count": 35,
      "outputs": [
        {
          "output_type": "stream",
          "name": "stdout",
          "text": [
            "     Brand  Model  Storage   RAM   Screen Size (inches)  Camera (MP)  \\\n",
            "0        0    232         1    15                     8           15   \n",
            "1       12    100         4     1                    35            0   \n",
            "2        9     19         1    18                    31           53   \n",
            "3       15    178         1    15                    30          119   \n",
            "4        4    162         1    18                    15           87   \n",
            "..     ...    ...       ...   ...                   ...          ...   \n",
            "402     12     95         0    17                    31           19   \n",
            "403     15    111         0    14                    26           70   \n",
            "404      0    229         0    14                    31           17   \n",
            "405     10    188         0    17                    15           59   \n",
            "406     12     96         0    14                    31           57   \n",
            "\n",
            "     Battery Capacity (mAh)  \n",
            "0                      3095  \n",
            "1                      5000  \n",
            "2                      4500  \n",
            "3                      5020  \n",
            "4                      4614  \n",
            "..                      ...  \n",
            "402                    4300  \n",
            "403                    4160  \n",
            "404                    3687  \n",
            "405                    4025  \n",
            "406                    4500  \n",
            "\n",
            "[407 rows x 7 columns]\n",
            "Media calculada: Brand                       10.142506\n",
            "Model                      118.211302\n",
            "Storage                      4.083538\n",
            "RAM                         12.842752\n",
            "Screen Size (inches)        21.437346\n",
            "Camera (MP)                 71.454545\n",
            "Battery Capacity (mAh)    4676.476658\n",
            "dtype: float64\n",
            "Desviación estandar calculada: Brand                       4.174844\n",
            "Model                      70.448856\n",
            "Storage                     4.229056\n",
            "RAM                         4.662553\n",
            "Screen Size (inches)        7.900821\n",
            "Camera (MP)                41.520988\n",
            "Battery Capacity (mAh)    796.213758\n",
            "dtype: float64\n",
            "        Brand     Model  Storage       RAM   Screen Size (inches)  \\\n",
            "0   -2.429433  1.615196 -0.729132  0.462675             -1.700753   \n",
            "1    0.444925 -0.258504 -0.019753 -2.539972              1.716613   \n",
            "2   -0.273664 -1.408274 -0.729132  1.106100              1.210337   \n",
            "3    1.163515  0.848682 -0.729132  0.462675              1.083768   \n",
            "4   -1.471314  0.621567 -0.729132  1.106100             -0.814769   \n",
            "..        ...       ...       ...       ...                   ...   \n",
            "402  0.444925 -0.329477 -0.965591  0.891625              1.210337   \n",
            "403  1.163515 -0.102362 -0.965591  0.248201              0.577491   \n",
            "404 -2.429433  1.572612 -0.965591  0.248201              1.210337   \n",
            "405 -0.034134  0.990629 -0.965591  0.891625             -0.814769   \n",
            "406  0.444925 -0.315283 -0.965591  0.248201              1.210337   \n",
            "\n",
            "     Camera (MP)  Battery Capacity (mAh)  \n",
            "0      -1.359663               -1.986246  \n",
            "1      -1.720926                0.406327  \n",
            "2      -0.444463               -0.221645  \n",
            "3       1.145095                0.431446  \n",
            "4       0.374400               -0.078467  \n",
            "..           ...                     ...  \n",
            "402    -1.263326               -0.472834  \n",
            "403    -0.035032               -0.648666  \n",
            "404    -1.311494               -1.242727  \n",
            "405    -0.299958               -0.818218  \n",
            "406    -0.348126               -0.221645  \n",
            "\n",
            "[407 rows x 7 columns]\n"
          ]
        }
      ]
    },
    {
      "cell_type": "code",
      "source": [
        "# Añade el termino de interseccion a X\n",
        "# (Columna de unos para X0)\n",
        "X = np.concatenate([np.ones((m, 1)), X_norm], axis=1)"
      ],
      "metadata": {
        "id": "mS6mPAwnw9Wz"
      },
      "execution_count": 36,
      "outputs": []
    },
    {
      "cell_type": "code",
      "source": [
        "print(X)"
      ],
      "metadata": {
        "colab": {
          "base_uri": "https://localhost:8080/"
        },
        "id": "OGfeLptkxElV",
        "outputId": "3a67e2be-3d8e-49ea-dd94-3f6f7cb6df90"
      },
      "execution_count": 38,
      "outputs": [
        {
          "output_type": "stream",
          "name": "stdout",
          "text": [
            "[[ 1.         -2.42943349  1.61519582 ... -1.70075309 -1.35966288\n",
            "  -1.98624634]\n",
            " [ 1.          0.44492532 -0.25850387 ...  1.71661311 -1.72092596\n",
            "   0.40632724]\n",
            " [ 1.         -0.27366438 -1.40827414 ...  1.21033663 -0.44446307\n",
            "  -0.22164482]\n",
            " ...\n",
            " [ 1.         -2.42943349  1.57261173 ...  1.21033663 -1.31149447\n",
            "  -1.24272741]\n",
            " [ 1.         -0.03413448  0.99062925 ... -0.81476926 -0.29995783\n",
            "  -0.81821829]\n",
            " [ 1.          0.44492532 -0.31528265 ...  1.21033663 -0.34812624\n",
            "  -0.22164482]]\n"
          ]
        }
      ]
    },
    {
      "cell_type": "code",
      "source": [
        "def computeCostMulti(X, y, theta):\n",
        "    # Inicializa algunos valores utiles\n",
        "    m = y.shape[0] # numero de ejemplos de entrenamiento\n",
        "\n",
        "    J = 0\n",
        "\n",
        "    h = np.dot(X, theta)\n",
        "\n",
        "    J = (1/(2 * m)) * np.sum(np.square(np.dot(X, theta) - y))\n",
        "\n",
        "    return J"
      ],
      "metadata": {
        "id": "f57R7-KsxVrX"
      },
      "execution_count": 39,
      "outputs": []
    },
    {
      "cell_type": "code",
      "source": [
        "#el descenso por el gradiente se utiliza para encontrar los parámetros(theta) óptimos que minimizan una función de costo.\n",
        "def gradientDescentMulti(X, y, theta, alpha, num_iters):\n",
        "\n",
        "    # Inicializa algunos valores\n",
        "    m = y.shape[0] # numero de ejemplos de entrenamiento\n",
        "\n",
        "    # realiza una copia de theta, el cual será acutalizada por el descenso por el gradiente\n",
        "    theta = theta.copy()\n",
        "\n",
        "    J_history = []\n",
        "\n",
        "    for i in range(num_iters):\n",
        "        theta = theta - (alpha / m) * (np.dot(X, theta) - y).dot(X)\n",
        "        J_history.append(computeCostMulti(X, y, theta))\n",
        "\n",
        "    return theta, J_history"
      ],
      "metadata": {
        "id": "qtYjnSLwxmJg"
      },
      "execution_count": 40,
      "outputs": []
    },
    {
      "cell_type": "code",
      "source": [
        "# Elegir algun valor para alpha (probar varias alternativas  mejores alfas = 0.1, 0.01, 0.001, 0.0001, 0.0005)\n",
        "alpha = 0.001\n",
        "\n",
        "num_iters = 4000\n",
        "\n",
        "# inicializa theta y ejecuta el descenso por el gradiente\n",
        "theta = np.zeros(8)\n",
        "theta, J_history = gradientDescentMulti(X, y, theta, alpha, num_iters)\n",
        "\n",
        "# Grafica la convergencia del costo\n",
        "pyplot.plot(np.arange(len(J_history)), J_history, lw=2)\n",
        "pyplot.xlabel('Numero de iteraciones')\n",
        "pyplot.ylabel('Costo J')\n",
        "\n",
        "# Muestra los resultados del descenso por el gradiente\n",
        "print('theta calculado por el descenso por el gradiente: {:s}'.format(str(theta)))\n",
        "\n",
        "# Estimar el precio para un telefono con distintas caracteristicas\n",
        "X_array = [1, 12, 100, 4, 1, 35, 0, 5000]\n",
        "#normaliza cada elemento de la sublista restando la media (mu) y luego dividiendo por la desviación estándar (sigma).\n",
        "X_array[1:8] = (X_array[1:8] - mu) / sigma\n",
        "\n",
        "price = np.dot(X_array, theta)\n",
        "\n",
        "print('El valor predecido es (usando el descenso por el gradiente): ${:.4f}'.format(price))"
      ],
      "metadata": {
        "colab": {
          "base_uri": "https://localhost:8080/",
          "height": 501
        },
        "id": "XPVJ7msSx3Bp",
        "outputId": "7a4988e9-882d-48e0-c2d6-e98a1ae22040"
      },
      "execution_count": 50,
      "outputs": [
        {
          "output_type": "stream",
          "name": "stdout",
          "text": [
            "theta calculado por el descenso por el gradiente: [ 40.83187408  -3.89023553   0.67079372 -12.34539787  -3.29141808\n",
            "   1.60432384  -2.96979979  -8.72751144]\n",
            "El valor predecido es (usando el descenso por el gradiente): $51.8502\n"
          ]
        },
        {
          "output_type": "display_data",
          "data": {
            "text/plain": [
              "<Figure size 640x480 with 1 Axes>"
            ],
            "image/png": "[encoded data removed]"
          },
          "metadata": {}
        }
      ]
    },
    {
      "cell_type": "code",
      "source": [],
      "metadata": {
        "id": "hVdfTMREzmtj"
      },
      "execution_count": null,
      "outputs": []
    }
  ]
}