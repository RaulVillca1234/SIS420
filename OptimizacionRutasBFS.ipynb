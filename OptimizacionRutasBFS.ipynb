{
  "nbformat": 4,
  "nbformat_minor": 0,
  "metadata": {
    "colab": {
      "provenance": []
    },
    "kernelspec": {
      "name": "python3",
      "display_name": "Python 3"
    },
    "language_info": {
      "name": "python"
    }
  },
  "cells": [
    {
      "cell_type": "markdown",
      "source": [
        "Nombre: Raul Carmelo Villca Saigua       ----------              Carrera: Ing. Sistemas"
      ],
      "metadata": {
        "id": "i0wrEWoqkGOF"
      }
    },
    {
      "cell_type": "markdown",
      "source": [],
      "metadata": {
        "id": "m4A_kPgEjxQh"
      }
    },
    {
      "cell_type": "markdown",
      "source": [
        "Optimización de Rutas en Sistemas de Transporte Inteligente:\n",
        "\n",
        "Aplicación: En sistemas de transporte inteligente, los algoritmos de búsqueda en anchura pueden utilizarse para encontrar rutas óptimas para vehículos, minimizando el tiempo de viaje o los costos asociados."
      ],
      "metadata": {
        "id": "LtYSgAuhL4M2"
      }
    },
    {
      "cell_type": "code",
      "execution_count": 2,
      "metadata": {
        "colab": {
          "base_uri": "https://localhost:8080/"
        },
        "id": "5GHD1EJWJZOp",
        "outputId": "842426a6-296b-411d-fd3f-8aebd4ea88c8"
      },
      "outputs": [
        {
          "output_type": "stream",
          "name": "stdout",
          "text": [
            "Ruta más corta desde A hasta H: ['A', 'B', 'E', 'H']\n",
            "Tiempo de viaje total: 33 minutos\n"
          ]
        }
      ],
      "source": [
        "#deque es una elección eficiente para implementar colas en Python\n",
        "from collections import deque\n",
        "\n",
        "# Función principal para encontrar la ruta más corta usando BFS\n",
        "def ruta_mas_corta_bfs(grafo, inicio, destino):\n",
        "  #Inicializacion de estructura de datos\n",
        "    # Estructura de datos para rastrear la ruta más corta\n",
        "    ruta_mas_corta = {inicio: None}\n",
        "    #creando así una cola inicializada con el nodo de inicio\n",
        "    cola = deque([inicio])\n",
        "#Bucle principal de BFS Inicia un bucle que continúa mientras haya nodos en la cola\n",
        "    while cola:\n",
        "      #Extrae el primer nodo de la cola para explorar sus nodos adyacentes.\n",
        "        nodo_actual = cola.popleft()\n",
        "\n",
        "        # Si hemos alcanzado el nodo objetivo, construimos y devolvemos la ruta\n",
        "        if nodo_actual == destino:\n",
        "            ruta = construir_ruta(ruta_mas_corta, inicio, destino)\n",
        "            return ruta\n",
        "\n",
        "        # Exploramos los nodos adyacentes (intersecciones conectadas por carreteras)\n",
        "        for vecino, tiempo_de_viaje in grafo[nodo_actual].items():\n",
        "            if vecino not in ruta_mas_corta:\n",
        "                # Actualizamos la ruta más corta y agregamos el vecino a la cola\n",
        "                ruta_mas_corta[vecino] = nodo_actual\n",
        "                cola.append(vecino)\n",
        "\n",
        "    # Si no se encuentra una ruta, devolvemos None\n",
        "    return None\n",
        "\n",
        "# Función auxiliar para construir la ruta a partir de la información de la ruta más corta\n",
        "def construir_ruta(ruta_mas_corta, inicio, destino):\n",
        "    ruta = []\n",
        "    nodo_actual = destino\n",
        "\n",
        "    while nodo_actual is not None:\n",
        "        ruta.insert(0, nodo_actual)\n",
        "        nodo_actual = ruta_mas_corta[nodo_actual]\n",
        "\n",
        "    return ruta\n",
        "\n",
        "# Ejemplo de grafo como diccionario de adyacencia con tiempos de viaje\n",
        "red_vial = {\n",
        "    'A': {'B': 5, 'C': 10},\n",
        "    'B': {'A': 5, 'D': 15, 'E': 20},\n",
        "    'C': {'A': 10, 'F': 7, 'G': 12},\n",
        "    'D': {'B': 15},\n",
        "    'E': {'B': 20, 'H': 8},\n",
        "    'F': {'C': 7},\n",
        "    'G': {'C': 12},\n",
        "    'H': {'E': 8}\n",
        "}\n",
        "\n",
        "# Punto de inicio y destino\n",
        "punto_inicio = 'A'\n",
        "punto_destino = 'H'\n",
        "\n",
        "# Encontrar la ruta más corta\n",
        "ruta_mas_corta = ruta_mas_corta_bfs(red_vial, punto_inicio, punto_destino)\n",
        "\n",
        "# Imprimir la ruta más corta y el tiempo de viaje total\n",
        "if ruta_mas_corta:\n",
        "    tiempo_de_viaje_total = sum(red_vial[nodo][ruta_mas_corta[i+1]] for i, nodo in enumerate(ruta_mas_corta[:-1]))\n",
        "    print(f\"Ruta más corta desde {punto_inicio} hasta {punto_destino}: {ruta_mas_corta}\")\n",
        "    print(f\"Tiempo de viaje total: {tiempo_de_viaje_total} minutos\")\n",
        "else:\n",
        "    print(f\"No hay ruta desde {punto_inicio} hasta {punto_destino}.\")\n",
        "\n",
        "\n"
      ]
    }
  ]
}