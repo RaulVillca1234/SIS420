{
  "nbformat": 4,
  "nbformat_minor": 0,
  "metadata": {
    "colab": {
      "provenance": []
    },
    "kernelspec": {
      "name": "python3",
      "display_name": "Python 3"
    },
    "language_info": {
      "name": "python"
    }
  },
  "cells": [
    {
      "cell_type": "code",
      "execution_count": 1,
      "metadata": {
        "id": "QuFaXf5ITGRq"
      },
      "outputs": [],
      "source": [
        "# utilizado para manejos de directorios y rutas\n",
        "import os\n",
        "\n",
        "# Computacion vectorial y cientifica para python\n",
        "import numpy as np\n",
        "\n",
        "# Librerias para graficación (trazado de gráficos)\n",
        "from matplotlib import pyplot\n",
        "from mpl_toolkits.mplot3d import Axes3D  # Necesario para graficar superficies 3D\n",
        "\n",
        "# llama a matplotlib a embeber graficas dentro de los cuadernillos\n",
        "%matplotlib inline"
      ]
    },
    {
      "cell_type": "code",
      "source": [
        "import pandas as pd\n",
        "from sklearn.preprocessing import LabelEncoder\n",
        "from datetime import datetime"
      ],
      "metadata": {
        "id": "0FLM1NfuLUUr"
      },
      "execution_count": 2,
      "outputs": []
    },
    {
      "cell_type": "code",
      "source": [
        "#Carga de dataset\n",
        "data = pd.read_csv('/content/covid.csv')"
      ],
      "metadata": {
        "id": "JV07_AlDLayJ"
      },
      "execution_count": 3,
      "outputs": []
    },
    {
      "cell_type": "code",
      "source": [
        "print(data)"
      ],
      "metadata": {
        "colab": {
          "base_uri": "https://localhost:8080/"
        },
        "id": "nOiO8O4ELpri",
        "outputId": "c5c713d0-cc16-4678-e2bb-80473b545b57"
      },
      "execution_count": 4,
      "outputs": [
        {
          "output_type": "stream",
          "name": "stdout",
          "text": [
            "     SR.No     Country/other  Total_cases  Total_deaths  Total_recovered  \\\n",
            "0        1               USA    107715650       1171803        105773383   \n",
            "1        2             India     44996198        531920         44462773   \n",
            "2        3            France     40138560        167642         39970918   \n",
            "3        4           Germany     38428685        174352         38240600   \n",
            "4        5            Brazil     37739057        704897         36249161   \n",
            "..     ...               ...          ...           ...              ...   \n",
            "225    226              Niue          829             0              825   \n",
            "226    227  Diamond Princess          712            13              699   \n",
            "227    228           Tokelau           80             0                0   \n",
            "228    229      Vatican City           29             0               29   \n",
            "229    230    Western Sahara           10             1                9   \n",
            "\n",
            "     Active_cases  Serious_cases  Total_tests  Population  \n",
            "0          770464            894   1181246915   334805269  \n",
            "1            1505              0    930797975  1406631776  \n",
            "2               0            869    271490188    65584518  \n",
            "3           13733              0    122332384    83883596  \n",
            "4          784999              0     63776166   215353593  \n",
            "..            ...            ...          ...         ...  \n",
            "225             4              0            0        1622  \n",
            "226             0              0            0           0  \n",
            "227            80              0            0        1378  \n",
            "228             0              0            0         799  \n",
            "229             0              0            0      626161  \n",
            "\n",
            "[230 rows x 9 columns]\n"
          ]
        }
      ]
    },
    {
      "cell_type": "code",
      "source": [
        "data.info()"
      ],
      "metadata": {
        "colab": {
          "base_uri": "https://localhost:8080/"
        },
        "id": "nQWT-k2AL2Kh",
        "outputId": "243ff285-4ff2-4613-a08d-9baffc8f4206"
      },
      "execution_count": 5,
      "outputs": [
        {
          "output_type": "stream",
          "name": "stdout",
          "text": [
            "<class 'pandas.core.frame.DataFrame'>\n",
            "RangeIndex: 230 entries, 0 to 229\n",
            "Data columns (total 9 columns):\n",
            " #   Column           Non-Null Count  Dtype \n",
            "---  ------           --------------  ----- \n",
            " 0   SR.No            230 non-null    int64 \n",
            " 1   Country/other    230 non-null    object\n",
            " 2   Total_cases      230 non-null    int64 \n",
            " 3   Total_deaths     230 non-null    int64 \n",
            " 4   Total_recovered  230 non-null    int64 \n",
            " 5   Active_cases     230 non-null    int64 \n",
            " 6   Serious_cases    230 non-null    int64 \n",
            " 7   Total_tests      230 non-null    int64 \n",
            " 8   Population       230 non-null    int64 \n",
            "dtypes: int64(8), object(1)\n",
            "memory usage: 16.3+ KB\n"
          ]
        }
      ]
    },
    {
      "cell_type": "code",
      "source": [
        "#variables categoricas\n",
        "columnas_categoricas = data.select_dtypes(include=['object']).columns"
      ],
      "metadata": {
        "id": "0FhPuZfZMRD5"
      },
      "execution_count": 6,
      "outputs": []
    },
    {
      "cell_type": "code",
      "source": [
        "#Procesamiento de frases o palabras\n",
        "for columna in columnas_categoricas:\n",
        "  le = LabelEncoder()\n",
        "  data[columna] = le.fit_transform(data[columna])"
      ],
      "metadata": {
        "id": "e6hiw2IPMlvQ"
      },
      "execution_count": 7,
      "outputs": []
    },
    {
      "cell_type": "code",
      "source": [
        "#resultado\n",
        "print(data)"
      ],
      "metadata": {
        "colab": {
          "base_uri": "https://localhost:8080/"
        },
        "id": "r53y2DO7MsHA",
        "outputId": "0c913d5c-6026-463b-c936-1de5c3e615f1"
      },
      "execution_count": 8,
      "outputs": [
        {
          "output_type": "stream",
          "name": "stdout",
          "text": [
            "     SR.No  Country/other  Total_cases  Total_deaths  Total_recovered  \\\n",
            "0        1            216    107715650       1171803        105773383   \n",
            "1        2             94     44996198        531920         44462773   \n",
            "2        3             72     40138560        167642         39970918   \n",
            "3        4             78     38428685        174352         38240600   \n",
            "4        5             26     37739057        704897         36249161   \n",
            "..     ...            ...          ...           ...              ...   \n",
            "225    226            151          829             0              825   \n",
            "226    227             56          712            13              699   \n",
            "227    228            207           80             0                0   \n",
            "228    229            222           29             0               29   \n",
            "229    230            226           10             1                9   \n",
            "\n",
            "     Active_cases  Serious_cases  Total_tests  Population  \n",
            "0          770464            894   1181246915   334805269  \n",
            "1            1505              0    930797975  1406631776  \n",
            "2               0            869    271490188    65584518  \n",
            "3           13733              0    122332384    83883596  \n",
            "4          784999              0     63776166   215353593  \n",
            "..            ...            ...          ...         ...  \n",
            "225             4              0            0        1622  \n",
            "226             0              0            0           0  \n",
            "227            80              0            0        1378  \n",
            "228             0              0            0         799  \n",
            "229             0              0            0      626161  \n",
            "\n",
            "[230 rows x 9 columns]\n"
          ]
        }
      ]
    },
    {
      "cell_type": "code",
      "source": [
        "data.info()"
      ],
      "metadata": {
        "colab": {
          "base_uri": "https://localhost:8080/"
        },
        "id": "jPXJia7HM4XX",
        "outputId": "5e3b8b02-3deb-4b91-8d0b-aaebae466d75"
      },
      "execution_count": 9,
      "outputs": [
        {
          "output_type": "stream",
          "name": "stdout",
          "text": [
            "<class 'pandas.core.frame.DataFrame'>\n",
            "RangeIndex: 230 entries, 0 to 229\n",
            "Data columns (total 9 columns):\n",
            " #   Column           Non-Null Count  Dtype\n",
            "---  ------           --------------  -----\n",
            " 0   SR.No            230 non-null    int64\n",
            " 1   Country/other    230 non-null    int64\n",
            " 2   Total_cases      230 non-null    int64\n",
            " 3   Total_deaths     230 non-null    int64\n",
            " 4   Total_recovered  230 non-null    int64\n",
            " 5   Active_cases     230 non-null    int64\n",
            " 6   Serious_cases    230 non-null    int64\n",
            " 7   Total_tests      230 non-null    int64\n",
            " 8   Population       230 non-null    int64\n",
            "dtypes: int64(9)\n",
            "memory usage: 16.3 KB\n"
          ]
        }
      ]
    },
    {
      "cell_type": "code",
      "source": [
        "# Lectura de Datos\n",
        "X = data.iloc[:, :8]\n",
        "y = data.iloc[:, 8]\n",
        "m = y.size"
      ],
      "metadata": {
        "id": "7WjFxYnHN3NG"
      },
      "execution_count": 11,
      "outputs": []
    },
    {
      "cell_type": "code",
      "source": [
        "print(X)\n",
        "print('*'*25)\n",
        "print(y)"
      ],
      "metadata": {
        "colab": {
          "base_uri": "https://localhost:8080/"
        },
        "id": "gIacGH8mOClm",
        "outputId": "cfba0ff4-1e27-4e32-c880-6932e0edcd4c"
      },
      "execution_count": 12,
      "outputs": [
        {
          "output_type": "stream",
          "name": "stdout",
          "text": [
            "     SR.No  Country/other  Total_cases  Total_deaths  Total_recovered  \\\n",
            "0        1            216    107715650       1171803        105773383   \n",
            "1        2             94     44996198        531920         44462773   \n",
            "2        3             72     40138560        167642         39970918   \n",
            "3        4             78     38428685        174352         38240600   \n",
            "4        5             26     37739057        704897         36249161   \n",
            "..     ...            ...          ...           ...              ...   \n",
            "225    226            151          829             0              825   \n",
            "226    227             56          712            13              699   \n",
            "227    228            207           80             0                0   \n",
            "228    229            222           29             0               29   \n",
            "229    230            226           10             1                9   \n",
            "\n",
            "     Active_cases  Serious_cases  Total_tests  \n",
            "0          770464            894   1181246915  \n",
            "1            1505              0    930797975  \n",
            "2               0            869    271490188  \n",
            "3           13733              0    122332384  \n",
            "4          784999              0     63776166  \n",
            "..            ...            ...          ...  \n",
            "225             4              0            0  \n",
            "226             0              0            0  \n",
            "227            80              0            0  \n",
            "228             0              0            0  \n",
            "229             0              0            0  \n",
            "\n",
            "[230 rows x 8 columns]\n",
            "*************************\n",
            "0       334805269\n",
            "1      1406631776\n",
            "2        65584518\n",
            "3        83883596\n",
            "4       215353593\n",
            "          ...    \n",
            "225          1622\n",
            "226             0\n",
            "227          1378\n",
            "228           799\n",
            "229        626161\n",
            "Name: Population, Length: 230, dtype: int64\n"
          ]
        }
      ]
    },
    {
      "cell_type": "code",
      "source": [
        "def  featureNormalize(X):\n",
        "    X_norm = X.copy()\n",
        "    mu = np.zeros(X.shape[1])\n",
        "    sigma = np.zeros(X.shape[1])\n",
        "\n",
        "    mu = np.mean(X, axis = 0)\n",
        "    sigma = np.std(X, axis = 0)\n",
        "    X_norm = (X - mu) / sigma\n",
        "\n",
        "    return X_norm, mu, sigma"
      ],
      "metadata": {
        "id": "3xKPPH9zOauV"
      },
      "execution_count": 13,
      "outputs": []
    },
    {
      "cell_type": "code",
      "source": [
        "# llama featureNormalize con los datos cargados\n",
        "X_norm, mu, sigma = featureNormalize(X)\n",
        "\n",
        "print(X)\n",
        "print('Media calculada:', mu)\n",
        "print('Desviación estandar calculada:', sigma)\n",
        "print(X_norm)"
      ],
      "metadata": {
        "colab": {
          "base_uri": "https://localhost:8080/"
        },
        "id": "KkDVNj6jOjZD",
        "outputId": "3a301f5f-4dab-4f92-bd44-e9c444df6a42"
      },
      "execution_count": 14,
      "outputs": [
        {
          "output_type": "stream",
          "name": "stdout",
          "text": [
            "     SR.No  Country/other  Total_cases  Total_deaths  Total_recovered  \\\n",
            "0        1            216    107715650       1171803        105773383   \n",
            "1        2             94     44996198        531920         44462773   \n",
            "2        3             72     40138560        167642         39970918   \n",
            "3        4             78     38428685        174352         38240600   \n",
            "4        5             26     37739057        704897         36249161   \n",
            "..     ...            ...          ...           ...              ...   \n",
            "225    226            151          829             0              825   \n",
            "226    227             56          712            13              699   \n",
            "227    228            207           80             0                0   \n",
            "228    229            222           29             0               29   \n",
            "229    230            226           10             1                9   \n",
            "\n",
            "     Active_cases  Serious_cases  Total_tests  \n",
            "0          770464            894   1181246915  \n",
            "1            1505              0    930797975  \n",
            "2               0            869    271490188  \n",
            "3           13733              0    122332384  \n",
            "4          784999              0     63776166  \n",
            "..            ...            ...          ...  \n",
            "225             4              0            0  \n",
            "226             0              0            0  \n",
            "227            80              0            0  \n",
            "228             0              0            0  \n",
            "229             0              0            0  \n",
            "\n",
            "[230 rows x 8 columns]\n",
            "Media calculada: SR.No              1.155000e+02\n",
            "Country/other      1.145000e+02\n",
            "Total_cases        3.013817e+06\n",
            "Total_deaths       3.003053e+04\n",
            "Total_recovered    2.715209e+06\n",
            "Active_cases       3.169649e+04\n",
            "Serious_cases      2.891304e+01\n",
            "Total_tests        3.043233e+07\n",
            "dtype: float64\n",
            "Desviación estandar calculada: SR.No              6.639465e+01\n",
            "Country/other      6.639465e+01\n",
            "Total_cases        9.768096e+06\n",
            "Total_deaths       1.065802e+05\n",
            "Total_recovered    9.353436e+06\n",
            "Active_cases       1.310951e+05\n",
            "Serious_cases      1.053615e+02\n",
            "Total_tests        1.149379e+08\n",
            "dtype: float64\n",
            "        SR.No  Country/other  Total_cases  Total_deaths  Total_recovered  \\\n",
            "0   -1.724536       1.528738    10.718755     10.712799        11.018215   \n",
            "1   -1.709475      -0.308760     4.297908      4.709030         4.463340   \n",
            "2   -1.694414      -0.640112     3.800612      1.291154         3.983104   \n",
            "3   -1.679352      -0.549743     3.625565      1.354111         3.798111   \n",
            "4   -1.664291      -1.332939     3.554965      6.332005         3.585201   \n",
            "..        ...            ...          ...           ...              ...   \n",
            "225  1.664291       0.549743    -0.308452     -0.281765        -0.290202   \n",
            "226  1.679352      -0.881095    -0.308464     -0.281643        -0.290215   \n",
            "227  1.694414       1.393184    -0.308529     -0.281765        -0.290290   \n",
            "228  1.709475       1.619106    -0.308534     -0.281765        -0.290287   \n",
            "229  1.724536       1.679352    -0.308536     -0.281755        -0.290289   \n",
            "\n",
            "     Active_cases  Serious_cases  Total_tests  \n",
            "0        5.635357       8.210656    10.012493  \n",
            "1       -0.230302      -0.274418     7.833499  \n",
            "2       -0.241782       7.973377     2.097288  \n",
            "3       -0.137026      -0.274418     0.799563  \n",
            "4        5.746231      -0.274418     0.290103  \n",
            "..            ...            ...          ...  \n",
            "225     -0.241752      -0.274418    -0.264772  \n",
            "226     -0.241782      -0.274418    -0.264772  \n",
            "227     -0.241172      -0.274418    -0.264772  \n",
            "228     -0.241782      -0.274418    -0.264772  \n",
            "229     -0.241782      -0.274418    -0.264772  \n",
            "\n",
            "[230 rows x 8 columns]\n"
          ]
        }
      ]
    },
    {
      "cell_type": "code",
      "source": [
        "# Añade el termino de interseccion a X\n",
        "# (Columna de unos para X0)\n",
        "X = np.concatenate([np.ones((m, 1)), X_norm], axis=1)"
      ],
      "metadata": {
        "id": "hBDfzFICOx_0"
      },
      "execution_count": 15,
      "outputs": []
    },
    {
      "cell_type": "code",
      "source": [
        "print(X)"
      ],
      "metadata": {
        "colab": {
          "base_uri": "https://localhost:8080/"
        },
        "id": "U7nU_qtZO6H8",
        "outputId": "50e9809b-18ca-46f6-9018-936d5f98905b"
      },
      "execution_count": 16,
      "outputs": [
        {
          "output_type": "stream",
          "name": "stdout",
          "text": [
            "[[ 1.         -1.72453645  1.52873755 ...  5.63535698  8.21065568\n",
            "  10.01249295]\n",
            " [ 1.         -1.709475   -0.3087598  ... -0.23030223 -0.27441755\n",
            "   7.83349882]\n",
            " [ 1.         -1.69441354 -0.64011178 ... -0.24178245  7.97337734\n",
            "   2.09728846]\n",
            " ...\n",
            " [ 1.          1.69441354  1.39318447 ... -0.24117221 -0.27441755\n",
            "  -0.26477197]\n",
            " [ 1.          1.709475    1.61910628 ... -0.24178245 -0.27441755\n",
            "  -0.26477197]\n",
            " [ 1.          1.72453645  1.67935209 ... -0.24178245 -0.27441755\n",
            "  -0.26477197]]\n"
          ]
        }
      ]
    },
    {
      "cell_type": "code",
      "source": [
        "def computeCostMulti(X, y, theta):\n",
        "    # Inicializa algunos valores utiles\n",
        "    m = y.shape[0] # numero de ejemplos de entrenamiento\n",
        "\n",
        "    J = 0\n",
        "\n",
        "    h = np.dot(X, theta)\n",
        "\n",
        "    J = (1/(2 * m)) * np.sum(np.square(np.dot(X, theta) - y))\n",
        "\n",
        "    return J"
      ],
      "metadata": {
        "id": "CAHY2fpFPAAU"
      },
      "execution_count": 17,
      "outputs": []
    },
    {
      "cell_type": "code",
      "source": [
        "def gradientDescentMulti(X, y, theta, alpha, num_iters):\n",
        "\n",
        "    # Inicializa algunos valores\n",
        "    m = y.shape[0] # numero de ejemplos de entrenamiento\n",
        "\n",
        "    # realiza una copia de theta, el cual será acutalizada por el descenso por el gradiente\n",
        "    theta = theta.copy()\n",
        "\n",
        "    J_history = []\n",
        "\n",
        "    for i in range(num_iters):\n",
        "        theta = theta - (alpha / m) * (np.dot(X, theta) - y).dot(X)\n",
        "        J_history.append(computeCostMulti(X, y, theta))\n",
        "\n",
        "    return theta, J_history"
      ],
      "metadata": {
        "id": "7cpPjAq9PM9k"
      },
      "execution_count": 18,
      "outputs": []
    },
    {
      "cell_type": "code",
      "source": [
        "# Elegir algun valor para alpha (probar varias alternativas mejores alfas = 0.1, 0.01, 0.001, 0.0001)\n",
        "alpha = 0.001\n",
        "num_iters = 4000\n",
        "\n",
        "# inicializa theta y ejecuta el descenso por el gradiente\n",
        "theta = np.zeros(9)\n",
        "theta, J_history = gradientDescentMulti(X, y, theta, alpha, num_iters)\n",
        "\n",
        "# Grafica la convergencia del costo\n",
        "pyplot.plot(np.arange(len(J_history)), J_history, lw=2)\n",
        "pyplot.xlabel('Numero de iteraciones')\n",
        "pyplot.ylabel('Costo J')\n",
        "\n",
        "# Muestra los resultados del descenso por el gradiente\n",
        "print('theta calculado por el descenso por el gradiente: {:s}'.format(str(theta)))\n",
        "\n",
        "# Estimar el precio para un smart watch con distintas caracteristicas\n",
        "X_array = [1, 2, 130, 32, 1, 17, 1.48, 29, 4]\n",
        "X_array[1:9] = (X_array[1:9] - mu) / sigma\n",
        "price = np.dot(X_array, theta)   # Se debe cambiar esto\n",
        "\n",
        "print('El valor predecido es (usando el descenso por el gradiente): {:.4f}'.format(price))"
      ],
      "metadata": {
        "colab": {
          "base_uri": "https://localhost:8080/",
          "height": 534
        },
        "id": "aa_5MVmfPS-z",
        "outputId": "0b2d2dd1-8988-4419-909f-44a7b4a8c7a9"
      },
      "execution_count": 19,
      "outputs": [
        {
          "output_type": "stream",
          "name": "stdout",
          "text": [
            "theta calculado por el descenso por el gradiente: [ 33911780.45309711  -9283971.17695422 -11970007.79564529\n",
            "  -1547070.4762092   17205394.11160015  -3402595.52243001\n",
            "  -1645088.21675662 -26829575.5338893   68142055.08125903]\n",
            "El valor predecido es (usando el descenso por el gradiente): 25938903.3568\n"
          ]
        },
        {
          "output_type": "display_data",
          "data": {
            "text/plain": [
              "<Figure size 640x480 with 1 Axes>"
            ],
            "image/png": "[encoded data removed]"
          },
          "metadata": {}
        }
      ]
    },
    {
      "cell_type": "code",
      "source": [
        "X_array = [1, 2, 130, 32, 1, 17, 1.48, 29, 4]\n",
        "X_array[1:9] = (X_array[1:9] - mu) / sigma"
      ],
      "metadata": {
        "id": "vOUJjguHP-a6"
      },
      "execution_count": 21,
      "outputs": []
    },
    {
      "cell_type": "code",
      "source": [
        "X_array[1:9]"
      ],
      "metadata": {
        "colab": {
          "base_uri": "https://localhost:8080/"
        },
        "id": "9QMhG0cOQhHr",
        "outputId": "2499b720-c1e5-45d8-dc2d-fdf01a25bfbb"
      },
      "execution_count": 22,
      "outputs": [
        {
          "output_type": "execute_result",
          "data": {
            "text/plain": [
              "[-1.7094749981986697,\n",
              " 0.23345253279365094,\n",
              " -0.3085334955853312,\n",
              " -0.2817552297323368,\n",
              " -0.2902881303097325,\n",
              " -0.24177116015920477,\n",
              " 0.000825315944903932,\n",
              " -0.26477193037954005]"
            ]
          },
          "metadata": {},
          "execution_count": 22
        }
      ]
    },
    {
      "cell_type": "code",
      "source": [
        "X = np.concatenate([np.ones((m, 1)), X], axis=1)"
      ],
      "metadata": {
        "id": "X3eRo0gPRTNj"
      },
      "execution_count": 23,
      "outputs": []
    },
    {
      "cell_type": "code",
      "source": [
        "# importante que para usar m>n, evitar datos redundantes, no se normaliza\n",
        "def normalEqn(X, y):\n",
        "\n",
        "    theta = np.zeros(X.shape[1])\n",
        "\n",
        "    theta = np.dot(np.dot(np.linalg.inv(np.dot(X.T,X)),X.T),y)\n",
        "\n",
        "    return theta"
      ],
      "metadata": {
        "id": "8rnGJyTyRbtQ"
      },
      "execution_count": 30,
      "outputs": []
    },
    {
      "cell_type": "code",
      "source": [
        "# Calcula los parametros con la ecuación de la normal\n",
        "theta = normalEqn(X, y);\n",
        "\n",
        "# Muestra los resultados optenidos a partir de la aplicación de la ecuación de la normal\n",
        "print('Theta calculado a partir de la ecuación de la normal: {:s}'.format(str(theta)));\n",
        "\n",
        "# Estimar datos para covid\n",
        "\n",
        "X_array = [1, 1, 128, 33, 2, 17, 1.8, 28, 4]\n",
        "price = np.dot(X_array, theta)\n",
        "\n",
        "print('datos de covid en tiempo real(usando la ecuación de la normal): ${:.0f}'.format(price))"
      ],
      "metadata": {
        "colab": {
          "base_uri": "https://localhost:8080/",
          "height": 390
        },
        "id": "eLeFSen2S6uP",
        "outputId": "30ed5f3d-ac1b-43ba-d93f-c087d58adc0b"
      },
      "execution_count": 34,
      "outputs": [
        {
          "output_type": "error",
          "ename": "LinAlgError",
          "evalue": "ignored",
          "traceback": [
            "\u001b[0;31m---------------------------------------------------------------------------\u001b[0m",
            "\u001b[0;31mLinAlgError\u001b[0m                               Traceback (most recent call last)",
            "\u001b[0;32m<ipython-input-34-6ddc60c2c59b>\u001b[0m in \u001b[0;36m<cell line: 2>\u001b[0;34m()\u001b[0m\n\u001b[1;32m      1\u001b[0m \u001b[0;31m# Calcula los parametros con la ecuación de la normal\u001b[0m\u001b[0;34m\u001b[0m\u001b[0;34m\u001b[0m\u001b[0m\n\u001b[0;32m----> 2\u001b[0;31m \u001b[0mtheta\u001b[0m \u001b[0;34m=\u001b[0m \u001b[0mnormalEqn\u001b[0m\u001b[0;34m(\u001b[0m\u001b[0mX\u001b[0m\u001b[0;34m,\u001b[0m \u001b[0my\u001b[0m\u001b[0;34m)\u001b[0m\u001b[0;34m;\u001b[0m\u001b[0;34m\u001b[0m\u001b[0;34m\u001b[0m\u001b[0m\n\u001b[0m\u001b[1;32m      3\u001b[0m \u001b[0;34m\u001b[0m\u001b[0m\n\u001b[1;32m      4\u001b[0m \u001b[0;31m# Muestra los resultados optenidos a partir de la aplicación de la ecuación de la normal\u001b[0m\u001b[0;34m\u001b[0m\u001b[0;34m\u001b[0m\u001b[0m\n\u001b[1;32m      5\u001b[0m \u001b[0mprint\u001b[0m\u001b[0;34m(\u001b[0m\u001b[0;34m'Theta calculado a partir de la ecuación de la normal: {:s}'\u001b[0m\u001b[0;34m.\u001b[0m\u001b[0mformat\u001b[0m\u001b[0;34m(\u001b[0m\u001b[0mstr\u001b[0m\u001b[0;34m(\u001b[0m\u001b[0mtheta\u001b[0m\u001b[0;34m)\u001b[0m\u001b[0;34m)\u001b[0m\u001b[0;34m)\u001b[0m\u001b[0;34m;\u001b[0m\u001b[0;34m\u001b[0m\u001b[0;34m\u001b[0m\u001b[0m\n",
            "\u001b[0;32m<ipython-input-30-f833cc75f065>\u001b[0m in \u001b[0;36mnormalEqn\u001b[0;34m(X, y)\u001b[0m\n\u001b[1;32m      4\u001b[0m     \u001b[0mtheta\u001b[0m \u001b[0;34m=\u001b[0m \u001b[0mnp\u001b[0m\u001b[0;34m.\u001b[0m\u001b[0mzeros\u001b[0m\u001b[0;34m(\u001b[0m\u001b[0mX\u001b[0m\u001b[0;34m.\u001b[0m\u001b[0mshape\u001b[0m\u001b[0;34m[\u001b[0m\u001b[0;36m1\u001b[0m\u001b[0;34m]\u001b[0m\u001b[0;34m)\u001b[0m\u001b[0;34m\u001b[0m\u001b[0;34m\u001b[0m\u001b[0m\n\u001b[1;32m      5\u001b[0m \u001b[0;34m\u001b[0m\u001b[0m\n\u001b[0;32m----> 6\u001b[0;31m     \u001b[0mtheta\u001b[0m \u001b[0;34m=\u001b[0m \u001b[0mnp\u001b[0m\u001b[0;34m.\u001b[0m\u001b[0mdot\u001b[0m\u001b[0;34m(\u001b[0m\u001b[0mnp\u001b[0m\u001b[0;34m.\u001b[0m\u001b[0mdot\u001b[0m\u001b[0;34m(\u001b[0m\u001b[0mnp\u001b[0m\u001b[0;34m.\u001b[0m\u001b[0mlinalg\u001b[0m\u001b[0;34m.\u001b[0m\u001b[0minv\u001b[0m\u001b[0;34m(\u001b[0m\u001b[0mnp\u001b[0m\u001b[0;34m.\u001b[0m\u001b[0mdot\u001b[0m\u001b[0;34m(\u001b[0m\u001b[0mX\u001b[0m\u001b[0;34m.\u001b[0m\u001b[0mT\u001b[0m\u001b[0;34m,\u001b[0m\u001b[0mX\u001b[0m\u001b[0;34m)\u001b[0m\u001b[0;34m)\u001b[0m\u001b[0;34m,\u001b[0m\u001b[0mX\u001b[0m\u001b[0;34m.\u001b[0m\u001b[0mT\u001b[0m\u001b[0;34m)\u001b[0m\u001b[0;34m,\u001b[0m\u001b[0my\u001b[0m\u001b[0;34m)\u001b[0m\u001b[0;34m\u001b[0m\u001b[0;34m\u001b[0m\u001b[0m\n\u001b[0m\u001b[1;32m      7\u001b[0m \u001b[0;34m\u001b[0m\u001b[0m\n\u001b[1;32m      8\u001b[0m     \u001b[0;32mreturn\u001b[0m \u001b[0mtheta\u001b[0m\u001b[0;34m\u001b[0m\u001b[0;34m\u001b[0m\u001b[0m\n",
            "\u001b[0;32m/usr/local/lib/python3.10/dist-packages/numpy/core/overrides.py\u001b[0m in \u001b[0;36minv\u001b[0;34m(*args, **kwargs)\u001b[0m\n",
            "\u001b[0;32m/usr/local/lib/python3.10/dist-packages/numpy/linalg/linalg.py\u001b[0m in \u001b[0;36minv\u001b[0;34m(a)\u001b[0m\n\u001b[1;32m    550\u001b[0m     \u001b[0msignature\u001b[0m \u001b[0;34m=\u001b[0m \u001b[0;34m'D->D'\u001b[0m \u001b[0;32mif\u001b[0m \u001b[0misComplexType\u001b[0m\u001b[0;34m(\u001b[0m\u001b[0mt\u001b[0m\u001b[0;34m)\u001b[0m \u001b[0;32melse\u001b[0m \u001b[0;34m'd->d'\u001b[0m\u001b[0;34m\u001b[0m\u001b[0;34m\u001b[0m\u001b[0m\n\u001b[1;32m    551\u001b[0m     \u001b[0mextobj\u001b[0m \u001b[0;34m=\u001b[0m \u001b[0mget_linalg_error_extobj\u001b[0m\u001b[0;34m(\u001b[0m\u001b[0m_raise_linalgerror_singular\u001b[0m\u001b[0;34m)\u001b[0m\u001b[0;34m\u001b[0m\u001b[0;34m\u001b[0m\u001b[0m\n\u001b[0;32m--> 552\u001b[0;31m     \u001b[0mainv\u001b[0m \u001b[0;34m=\u001b[0m \u001b[0m_umath_linalg\u001b[0m\u001b[0;34m.\u001b[0m\u001b[0minv\u001b[0m\u001b[0;34m(\u001b[0m\u001b[0ma\u001b[0m\u001b[0;34m,\u001b[0m \u001b[0msignature\u001b[0m\u001b[0;34m=\u001b[0m\u001b[0msignature\u001b[0m\u001b[0;34m,\u001b[0m \u001b[0mextobj\u001b[0m\u001b[0;34m=\u001b[0m\u001b[0mextobj\u001b[0m\u001b[0;34m)\u001b[0m\u001b[0;34m\u001b[0m\u001b[0;34m\u001b[0m\u001b[0m\n\u001b[0m\u001b[1;32m    553\u001b[0m     \u001b[0;32mreturn\u001b[0m \u001b[0mwrap\u001b[0m\u001b[0;34m(\u001b[0m\u001b[0mainv\u001b[0m\u001b[0;34m.\u001b[0m\u001b[0mastype\u001b[0m\u001b[0;34m(\u001b[0m\u001b[0mresult_t\u001b[0m\u001b[0;34m,\u001b[0m \u001b[0mcopy\u001b[0m\u001b[0;34m=\u001b[0m\u001b[0;32mFalse\u001b[0m\u001b[0;34m)\u001b[0m\u001b[0;34m)\u001b[0m\u001b[0;34m\u001b[0m\u001b[0;34m\u001b[0m\u001b[0m\n\u001b[1;32m    554\u001b[0m \u001b[0;34m\u001b[0m\u001b[0m\n",
            "\u001b[0;32m/usr/local/lib/python3.10/dist-packages/numpy/linalg/linalg.py\u001b[0m in \u001b[0;36m_raise_linalgerror_singular\u001b[0;34m(err, flag)\u001b[0m\n\u001b[1;32m     87\u001b[0m \u001b[0;34m\u001b[0m\u001b[0m\n\u001b[1;32m     88\u001b[0m \u001b[0;32mdef\u001b[0m \u001b[0m_raise_linalgerror_singular\u001b[0m\u001b[0;34m(\u001b[0m\u001b[0merr\u001b[0m\u001b[0;34m,\u001b[0m \u001b[0mflag\u001b[0m\u001b[0;34m)\u001b[0m\u001b[0;34m:\u001b[0m\u001b[0;34m\u001b[0m\u001b[0;34m\u001b[0m\u001b[0m\n\u001b[0;32m---> 89\u001b[0;31m     \u001b[0;32mraise\u001b[0m \u001b[0mLinAlgError\u001b[0m\u001b[0;34m(\u001b[0m\u001b[0;34m\"Singular matrix\"\u001b[0m\u001b[0;34m)\u001b[0m\u001b[0;34m\u001b[0m\u001b[0;34m\u001b[0m\u001b[0m\n\u001b[0m\u001b[1;32m     90\u001b[0m \u001b[0;34m\u001b[0m\u001b[0m\n\u001b[1;32m     91\u001b[0m \u001b[0;32mdef\u001b[0m \u001b[0m_raise_linalgerror_nonposdef\u001b[0m\u001b[0;34m(\u001b[0m\u001b[0merr\u001b[0m\u001b[0;34m,\u001b[0m \u001b[0mflag\u001b[0m\u001b[0;34m)\u001b[0m\u001b[0;34m:\u001b[0m\u001b[0;34m\u001b[0m\u001b[0;34m\u001b[0m\u001b[0m\n",
            "\u001b[0;31mLinAlgError\u001b[0m: Singular matrix"
          ]
        }
      ]
    }
  ]
}